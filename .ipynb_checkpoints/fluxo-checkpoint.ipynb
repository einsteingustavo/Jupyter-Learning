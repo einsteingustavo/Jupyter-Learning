{
 "cells": [
  {
   "cell_type": "markdown",
   "metadata": {},
   "source": [
    "# Estruturas de fluxo"
   ]
  },
  {
   "cell_type": "markdown",
   "metadata": {},
   "source": [
    "Iremos ver agora alguns elementos de controle de fluxo parecidos com os que outras linguagens tem, com algumas diferenças, entretanto.  São eles:\n",
    "- `while`\n",
    "- `if`\n",
    "- `for`\n",
    "\n",
    "Observe que Python não tem a instrução `do .. while` nem a instrução `switch`.\n",
    "\n",
    "Cada um dos elementos acima operam sobre blocos de instruções.  Em C, um bloco é definido por chaves: `{` e `}`.  Em Python, os blocos são definidos por ***indentação***, ou seja, a quantidade de espaços antes da instrução de cada linha.  Esta quantidade de espaços deve ser a mesma para cada linha do bloco, e deve ser sempre do mesmo tipo, i.e., não pode usar um espaço e um tab em uma linha e dois espaços em outra.  Como o caractere tab se confunde muito com espaço, é recomendado não usar tab para indentar.\n",
    "\n",
    "Note que alguns editores, como emacs e ipython, usam a tecla de tab não para inserir um caractere tab, mas sim uma quantidade de espaços apropriado (em geral 2 ou 4 espaços)."
   ]
  },
  {
   "cell_type": "code",
   "execution_count": 7,
   "metadata": {},
   "outputs": [
    {
     "name": "stdout",
     "output_type": "stream",
     "text": [
      "0 1 2 3 4 5 6 7 8 9 Terminei\n"
     ]
    }
   ],
   "source": [
    "# O comando while repete um bloco de instruções até que um teste, executado a cada\n",
    "# repetição, tenha o valor False (ou equivalente).  Neste sentido, é igual à\n",
    "# instrução similar em C.\n",
    "ctr = 0\n",
    "while ctr < 10:\n",
    "    print(ctr, end=\" \")\n",
    "    ctr += 1\n",
    "print(\"Terminei\")"
   ]
  },
  {
   "cell_type": "code",
   "execution_count": 2,
   "metadata": {},
   "outputs": [
    {
     "name": "stdout",
     "output_type": "stream",
     "text": [
      "A string é a string vazia.\n",
      "***Vazia***\n"
     ]
    }
   ],
   "source": [
    "# O comando if roda um comando de teste.  Caso o resultado seja True, ele executa\n",
    "# o bloco que o segue.  Caso seja False e uma instrução else vier logo a seguir,\n",
    "# o comando if executa o block depois do else.  Observe que não instrução endif\n",
    "# ou nenhuma outra forma de terminar um bloco a nao ser pela indentação\n",
    "s = \"\"\n",
    "if s:\n",
    "    print(\"A string é \\\"{}\\\"\".format(s))\n",
    "    s = s.lower()\n",
    "else:\n",
    "    print(\"A string é a string vazia.\")\n",
    "    s = \"***Vazia***\"\n",
    "print(s)"
   ]
  },
  {
   "cell_type": "code",
   "execution_count": 9,
   "metadata": {},
   "outputs": [
    {
     "name": "stdout",
     "output_type": "stream",
     "text": [
      "Você não escolheu nada com sentido\n"
     ]
    }
   ],
   "source": [
    "# O comando if ... else if ... pode ser simplificado para if .. elif ..   Observe\n",
    "# que Python não tem o comando switch () { case: ; } do C.  Isto deve ser\n",
    "# implementado com if .. elif ..\n",
    "escolha = 3\n",
    "if escolha == 0:\n",
    "    print(\"Você escolheu o primeiro item\")\n",
    "elif escolha == 1:\n",
    "    print(\"Você escolheu o segundo item\")\n",
    "elif escolha == 2:\n",
    "    print(\"Você escolheu o terceiro item\")\n",
    "else:\n",
    "    print(\"Você não escolheu nada com sentido\")"
   ]
  },
  {
   "cell_type": "code",
   "execution_count": 4,
   "metadata": {},
   "outputs": [
    {
     "name": "stdout",
     "output_type": "stream",
     "text": [
      "*** Vazia ***\n"
     ]
    }
   ],
   "source": [
    "# Existe uma forma concisa do if que é equivalente à construção\n",
    "# test ? 1 : 0;  do C\n",
    "s = \"\"\n",
    "choice = s if s else \"*** Vazia ***\"\n",
    "print(choice)"
   ]
  },
  {
   "cell_type": "code",
   "execution_count": 6,
   "metadata": {},
   "outputs": [
    {
     "name": "stdout",
     "output_type": "stream",
     "text": [
      "1 2 3 4 5 6 7 8 9 "
     ]
    }
   ],
   "source": [
    "# Um loop infinito pode ser obtido usando while 1:.  Podemos usar o comando break\n",
    "# para sair do loop\n",
    "ctr = 1\n",
    "while 1:\n",
    "    if ctr == 10:\n",
    "        break\n",
    "    print(ctr, end=\" \")\n",
    "    ctr += 1"
   ]
  },
  {
   "cell_type": "code",
   "execution_count": 8,
   "metadata": {},
   "outputs": [
    {
     "name": "stdout",
     "output_type": "stream",
     "text": [
      "2 4 6 8 "
     ]
    }
   ],
   "source": [
    "# Além do comando break, existe o comando continue que pode ser usado em loops.\n",
    "# Este comando tem a mesma função do comando continue em C, i.e., serve para\n",
    "# retornar ao início do loop sem executar mais nenhum outro comando abaixo\n",
    "# dele.  Assim como o break, ele é geralmente usado dentro de uma instrução if\n",
    "ctr = 1\n",
    "while ctr < 10:\n",
    "    if ctr % 2 == 1:\n",
    "        ctr += 1\n",
    "        continue    # pula os números ímpares\n",
    "    print(ctr, end=\" \")\n",
    "    ctr += 1"
   ]
  },
  {
   "cell_type": "code",
   "execution_count": 9,
   "metadata": {},
   "outputs": [
    {
     "name": "stdout",
     "output_type": "stream",
     "text": [
      "1 2 3 4 5 6 7 8 \n",
      "Universidade Federal de Pernambuco \n",
      "0 1 2 3 4 5 6 7 8 9 10 11 12 13 14 15 16 17 18 19 \n",
      "U / n / i / v / e / r / s / i / d / a / d / e / "
     ]
    }
   ],
   "source": [
    "# Um outro comando de loop é o for.  Este comando itera sobre todos os elementos\n",
    "# de uma sequência\n",
    "for n in [1, 2, 3, 4, 5, 6, 7, 8]:\n",
    "    print(n, end=\" \")\n",
    "print()\n",
    "for s in [\"Universidade\", \"Federal\", \"de\", \"Pernambuco\"]:\n",
    "    print(s, end=\" \")\n",
    "print()\n",
    "for n in range(20):\n",
    "    print(n, end=\" \")\n",
    "print()\n",
    "for c in \"Universidade\":\n",
    "    print(c, end=\" / \")"
   ]
  },
  {
   "cell_type": "code",
   "execution_count": 14,
   "metadata": {},
   "outputs": [
    {
     "name": "stdout",
     "output_type": "stream",
     "text": [
      "Antes:   [1, 2, 3, 4, 5, 6, 7, 8, 9]\n",
      "Antes:   [[1], [1, 2], [1, 2, 3], [1, 2, 3, 4]]\n",
      "1 2 2 3 3 4 4 5 5 6 6 7 7 8 8 9 9 10 \n",
      "[1] [1, 0] [1, 2] [1, 2, 0] [1, 2, 3] [1, 2, 3, 0] [1, 2, 3, 4] [1, 2, 3, 4, 0] \n",
      "Variável lst1 depois:  [1, 2, 3, 4, 5, 6, 7, 8, 9]\n",
      "Variável lst2 depois:  [[1, 0], [1, 2, 0], [1, 2, 3, 0], [1, 2, 3, 4, 0]]\n"
     ]
    }
   ],
   "source": [
    "# Observe que o comando for associa (bind, em inglês) uma variável a cada elemento\n",
    "# da sequência.  Esta associação é idêntica a um assignment, e devemos tomar os mesmos\n",
    "# cuidados quando lidarmos com tipos de dados mais complexos pois a associação é\n",
    "# feita através de uma referência\n",
    "lst1 = [1, 2, 3, 4, 5, 6, 7, 8, 9]\n",
    "lst2 = [[1], [1, 2], [1, 2, 3], [1, 2, 3, 4]]\n",
    "print(\"Antes:  \", lst1)\n",
    "print(\"Antes:  \", lst2)\n",
    "for n in lst1:\n",
    "    print(n, end=\" \")\n",
    "    n += 1\n",
    "    print(n, end=\" \")\n",
    "print()\n",
    "for lst in lst2:\n",
    "    print(lst, end=\" \")\n",
    "    lst.append(0)\n",
    "    print(lst, end=\" \")\n",
    "print()\n",
    "print(\"Variável lst1 depois: \", lst1)\n",
    "print(\"Variável lst2 depois: \", lst2)"
   ]
  },
  {
   "cell_type": "markdown",
   "metadata": {},
   "source": [
    "### Exercícios"
   ]
  },
  {
   "cell_type": "code",
   "execution_count": 61,
   "metadata": {},
   "outputs": [
    {
     "name": "stdout",
     "output_type": "stream",
     "text": [
      "F(0) = 0\n",
      "F(1) = 1\n",
      "F(2) = 1\n",
      "F(3) = 2\n",
      "F(4) = 3\n",
      "F(5) = 5\n",
      "F(6) = 8\n",
      "F(7) = 13\n",
      "F(8) = 21\n",
      "F(9) = 34\n",
      "F(10) = 55\n",
      "F(11) = 89\n",
      "F(12) = 144\n",
      "F(13) = 233\n",
      "F(14) = 377\n",
      "F(15) = 610\n",
      "F(16) = 987\n",
      "F(17) = 1597\n",
      "F(18) = 2584\n",
      "F(19) = 4181\n",
      "F(20) = 6765\n",
      "F(21) = 10946\n",
      "F(22) = 17711\n",
      "F(23) = 28657\n",
      "F(24) = 46368\n",
      "F(25) = 75025\n",
      "F(26) = 121393\n",
      "F(27) = 196418\n",
      "F(28) = 317811\n",
      "F(29) = 514229\n",
      "F(30) = 832040\n",
      "F(31) = 1346269\n",
      "F(32) = 2178309\n",
      "F(33) = 3524578\n",
      "F(34) = 5702887\n",
      "F(35) = 9227465\n",
      "F(36) = 14930352\n",
      "F(37) = 24157817\n",
      "F(38) = 39088169\n",
      "F(39) = 63245986\n",
      "F(40) = 102334155\n",
      "F(41) = 165580141\n",
      "F(42) = 267914296\n",
      "F(43) = 433494437\n",
      "F(44) = 701408733\n",
      "F(45) = 1134903170\n",
      "F(46) = 1836311903\n",
      "F(47) = 2971215073\n",
      "F(48) = 4807526976\n",
      "F(49) = 7778742049\n",
      "F(50) = 12586269025\n"
     ]
    }
   ],
   "source": [
    "# A sequência de números Fibonacci é uma sequência definida recursivamente:\n",
    "# F(n+2) = F(n+1) + F(n), para n >= 0, com as condições iniciais F(0) = 0 e\n",
    "# F(1) = 1.  Construa uma lista com os números Fibonacci até n == 50.  Imprima\n",
    "# esta lista um número por linha na forma \"F(n) = m\", por exemplo, \"F(7) = 13\"\n",
    "fib = [0, 1]\n",
    "#\n",
    "# Seu código aqui\n",
    "#\n",
    "for i, m in enumerate(fib):\n",
    "    print(f\"F({i}) = {m}\")\n",
    "    if fib[i] >= 1:\n",
    "        fib.append(fib[i-1] + fib[i])\n",
    "    if i == 50:\n",
    "        break"
   ]
  },
  {
   "cell_type": "code",
   "execution_count": 27,
   "metadata": {},
   "outputs": [
    {
     "name": "stdout",
     "output_type": "stream",
     "text": [
      "  1 Se essa rua\n",
      "  2 Se essa rua fosse minha\n",
      "  3 Eu mandava\n",
      "  4 Eu mandava ladrilhar\n",
      "  5 Com pedrinhas\n",
      "  6 Com pedrinhas de brilhante\n",
      "  7 Para o meu\n",
      "  8 Para o meu amor passar\n",
      "  9 Nessa rua\n",
      " 10 Nessa rua tem um bosque\n",
      " 11 Que se chama\n",
      " 12 Que se chama solidão\n"
     ]
    }
   ],
   "source": [
    "# Numere cada linha da string s abaixo começando de 1 e garantindo que os números tenham\n",
    "# pelo menos 3 espaços para eles e separados por um espaço do texto.  Por exemplo, se s\n",
    "# é \"Primeira linha\\nSegunda linha\", você deve gerar uma nova string com o conteúdo\n",
    "# \"  1 Primeira linha\\n  2 Segunda linha\"\n",
    "s = \"\"\"Se essa rua\n",
    "Se essa rua fosse minha\n",
    "Eu mandava\n",
    "Eu mandava ladrilhar\n",
    "Com pedrinhas\n",
    "Com pedrinhas de brilhante\n",
    "Para o meu\n",
    "Para o meu amor passar\n",
    "Nessa rua\n",
    "Nessa rua tem um bosque\n",
    "Que se chama\n",
    "Que se chama solidão\"\"\"\n",
    "lines = s.split(\"\\n\")  # Seu código aqui\n",
    "result = []\n",
    "for n, l in enumerate(lines):\n",
    "    result.append(\"{:3d} {:s}\".format(n+1, l))\n",
    "print(\"\\n\".join(result))"
   ]
  },
  {
   "cell_type": "code",
   "execution_count": 36,
   "metadata": {},
   "outputs": [
    {
     "name": "stdout",
     "output_type": "stream",
     "text": [
      "['fosse', 'minha', 'mandava', 'mandava', 'ladrilhar', 'pedrinhas', 'pedrinhas', 'brilhante', 'passar', 'Nessa', 'Nessa', 'bosque', 'chama', 'chama', 'solidão']\n"
     ]
    }
   ],
   "source": [
    "# Na string s do problema anterior, crie uma nova lista com apenas as palavras com\n",
    "# mais de 5 letras\n",
    "#\n",
    "# Seu código aqui gerando a lista lst de palavras com 5 letras ou mais\n",
    "#\n",
    "s = \"\"\"Se essa rua\n",
    "Se essa rua fosse minha\n",
    "Eu mandava\n",
    "Eu mandava ladrilhar\n",
    "Com pedrinhas\n",
    "Com pedrinhas de brilhante\n",
    "Para o meu\n",
    "Para o meu amor passar\n",
    "Nessa rua\n",
    "Nessa rua tem um bosque\n",
    "Que se chama\n",
    "Que se chama solidão\"\"\"\n",
    "\n",
    "palavras = s.split()\n",
    "\n",
    "cinco = []\n",
    "\n",
    "for palavra in palavras:\n",
    "    if len(palavra) >= 5:\n",
    "        cinco.append(palavra)\n",
    "\n",
    "print(cinco)"
   ]
  },
  {
   "cell_type": "markdown",
   "metadata": {},
   "source": [
    "# List Compreheension"
   ]
  },
  {
   "cell_type": "code",
   "execution_count": 18,
   "metadata": {},
   "outputs": [
    {
     "name": "stdout",
     "output_type": "stream",
     "text": [
      "[1, 4, 9, 16, 25, 36, 49, 64, 81, 100, 121, 144, 169, 196, 225, 256, 289, 324, 361]\n"
     ]
    }
   ],
   "source": [
    "# List comprehensions é uma sintaxe para criar listas que combina a criação de listas\n",
    "# com um loop for\n",
    "quadrados = [n*n for n in range(1, 20)]\n",
    "print(quadrados)"
   ]
  },
  {
   "cell_type": "code",
   "execution_count": 19,
   "metadata": {},
   "outputs": [
    {
     "name": "stdout",
     "output_type": "stream",
     "text": [
      "[1, 4, 9, 16, 25, 36, 49, 64, 81, 100, 121, 144, 169, 196, 225, 256, 289, 324, 361]\n"
     ]
    }
   ],
   "source": [
    "# A list comprehension acima é equivalente à construção abaixo\n",
    "quadrados = []\n",
    "for n in range(1, 20):\n",
    "    quadrados.append(n*n)\n",
    "print(quadrados)"
   ]
  },
  {
   "cell_type": "code",
   "execution_count": 47,
   "metadata": {},
   "outputs": [
    {
     "name": "stdout",
     "output_type": "stream",
     "text": [
      "200\n",
      "[0, 0, 0, 0, 0, 0, 0, 0, 0, 0, 0, 0, 0, 0, 0, 0, 0, 0, 0, 0, 0, 1, 2, 3, 4, 5, 6, 7, 8, 9, 10, 11, 12, 13, 14, 15, 16, 17, 18, 19, 0, 2, 4, 6, 8, 10, 12, 14, 16, 18, 20, 22, 24, 26, 28, 30, 32, 34, 36, 38, 0, 3, 6, 9, 12, 15, 18, 21, 24, 27, 30, 33, 36, 39, 42, 45, 48, 51, 54, 57, 0, 4, 8, 12, 16, 20, 24, 28, 32, 36, 40, 44, 48, 52, 56, 60, 64, 68, 72, 76, 0, 5, 10, 15, 20, 25, 30, 35, 40, 45, 50, 55, 60, 65, 70, 75, 80, 85, 90, 95, 0, 6, 12, 18, 24, 30, 36, 42, 48, 54, 60, 66, 72, 78, 84, 90, 96, 102, 108, 114, 0, 7, 14, 21, 28, 35, 42, 49, 56, 63, 70, 77, 84, 91, 98, 105, 112, 119, 126, 133, 0, 8, 16, 24, 32, 40, 48, 56, 64, 72, 80, 88, 96, 104, 112, 120, 128, 136, 144, 152, 0, 9, 18, 27, 36, 45, 54, 63, 72, 81, 90, 99, 108, 117, 126, 135, 144, 153, 162, 171]\n",
      "10\n",
      "20\n",
      "[[0, 0, 0, 0, 0, 0, 0, 0, 0, 0, 0, 0, 0, 0, 0, 0, 0, 0, 0, 0], [0, 1, 2, 3, 4, 5, 6, 7, 8, 9, 10, 11, 12, 13, 14, 15, 16, 17, 18, 19], [0, 2, 4, 6, 8, 10, 12, 14, 16, 18, 20, 22, 24, 26, 28, 30, 32, 34, 36, 38], [0, 3, 6, 9, 12, 15, 18, 21, 24, 27, 30, 33, 36, 39, 42, 45, 48, 51, 54, 57], [0, 4, 8, 12, 16, 20, 24, 28, 32, 36, 40, 44, 48, 52, 56, 60, 64, 68, 72, 76], [0, 5, 10, 15, 20, 25, 30, 35, 40, 45, 50, 55, 60, 65, 70, 75, 80, 85, 90, 95], [0, 6, 12, 18, 24, 30, 36, 42, 48, 54, 60, 66, 72, 78, 84, 90, 96, 102, 108, 114], [0, 7, 14, 21, 28, 35, 42, 49, 56, 63, 70, 77, 84, 91, 98, 105, 112, 119, 126, 133], [0, 8, 16, 24, 32, 40, 48, 56, 64, 72, 80, 88, 96, 104, 112, 120, 128, 136, 144, 152], [0, 9, 18, 27, 36, 45, 54, 63, 72, 81, 90, 99, 108, 117, 126, 135, 144, 153, 162, 171]]\n"
     ]
    }
   ],
   "source": [
    "# List comprehensions podem estar aninhadas de 2 formas\n",
    "produtos = [n*m for n in range(10) for m in range(20)]\n",
    "print(len(produtos))\n",
    "print(produtos)\n",
    "produtos = [[n*m for m in range(20)] for n in range(10)]\n",
    "print(len(produtos))\n",
    "print(len(produtos[0]))\n",
    "print(produtos)"
   ]
  },
  {
   "cell_type": "code",
   "execution_count": 21,
   "metadata": {
    "scrolled": true
   },
   "outputs": [
    {
     "name": "stdout",
     "output_type": "stream",
     "text": [
      "[0, 0, 0, 0, 0, 0, 0, 0, 0, 0, 0, 0, 0, 0, 0, 0, 0, 0, 0, 0, 0, 1, 2, 3, 4, 5, 6, 7, 8, 9, 10, 11, 12, 13, 14, 15, 16, 17, 18, 19, 0, 2, 4, 6, 8, 10, 12, 14, 16, 18, 20, 22, 24, 26, 28, 30, 32, 34, 36, 38, 0, 3, 6, 9, 12, 15, 18, 21, 24, 27, 30, 33, 36, 39, 42, 45, 48, 51, 54, 57, 0, 4, 8, 12, 16, 20, 24, 28, 32, 36, 40, 44, 48, 52, 56, 60, 64, 68, 72, 76, 0, 5, 10, 15, 20, 25, 30, 35, 40, 45, 50, 55, 60, 65, 70, 75, 80, 85, 90, 95, 0, 6, 12, 18, 24, 30, 36, 42, 48, 54, 60, 66, 72, 78, 84, 90, 96, 102, 108, 114, 0, 7, 14, 21, 28, 35, 42, 49, 56, 63, 70, 77, 84, 91, 98, 105, 112, 119, 126, 133, 0, 8, 16, 24, 32, 40, 48, 56, 64, 72, 80, 88, 96, 104, 112, 120, 128, 136, 144, 152, 0, 9, 18, 27, 36, 45, 54, 63, 72, 81, 90, 99, 108, 117, 126, 135, 144, 153, 162, 171]\n"
     ]
    }
   ],
   "source": [
    "# A primeira forma aninhada acima é equivalente ao seguinte código:\n",
    "produtos = []\n",
    "for n in range(10):\n",
    "    for m in range(20):\n",
    "        produtos.append(n*m)\n",
    "print(produtos)"
   ]
  },
  {
   "cell_type": "code",
   "execution_count": 22,
   "metadata": {},
   "outputs": [
    {
     "name": "stdout",
     "output_type": "stream",
     "text": [
      "[[0, 0, 0, 0, 0, 0, 0, 0, 0, 0, 0, 0, 0, 0, 0, 0, 0, 0, 0, 0], [0, 1, 2, 3, 4, 5, 6, 7, 8, 9, 10, 11, 12, 13, 14, 15, 16, 17, 18, 19], [0, 2, 4, 6, 8, 10, 12, 14, 16, 18, 20, 22, 24, 26, 28, 30, 32, 34, 36, 38], [0, 3, 6, 9, 12, 15, 18, 21, 24, 27, 30, 33, 36, 39, 42, 45, 48, 51, 54, 57], [0, 4, 8, 12, 16, 20, 24, 28, 32, 36, 40, 44, 48, 52, 56, 60, 64, 68, 72, 76], [0, 5, 10, 15, 20, 25, 30, 35, 40, 45, 50, 55, 60, 65, 70, 75, 80, 85, 90, 95], [0, 6, 12, 18, 24, 30, 36, 42, 48, 54, 60, 66, 72, 78, 84, 90, 96, 102, 108, 114], [0, 7, 14, 21, 28, 35, 42, 49, 56, 63, 70, 77, 84, 91, 98, 105, 112, 119, 126, 133], [0, 8, 16, 24, 32, 40, 48, 56, 64, 72, 80, 88, 96, 104, 112, 120, 128, 136, 144, 152], [0, 9, 18, 27, 36, 45, 54, 63, 72, 81, 90, 99, 108, 117, 126, 135, 144, 153, 162, 171]]\n"
     ]
    }
   ],
   "source": [
    "# A segunda forma aninhada é quivalente ao seguinte:\n",
    "produtos = []\n",
    "for n in range(10):\n",
    "    tmp = []\n",
    "    for m in range(20):\n",
    "        tmp.append(n*m)\n",
    "    produtos.append(tmp)\n",
    "print(produtos)"
   ]
  },
  {
   "cell_type": "code",
   "execution_count": 23,
   "metadata": {},
   "outputs": [
    {
     "name": "stdout",
     "output_type": "stream",
     "text": [
      "[1, 9, 25, 49, 81, 121, 169, 225, 289, 361]\n"
     ]
    }
   ],
   "source": [
    "# Podemos adicionar um teste à list comprehension para filtrar os valores que\n",
    "# comporão a lista.  Por exemplo, se quisermos calcular o quadrado dos números\n",
    "# ímpares, podemos implementar assim\n",
    "quadrados = [n*n for n in range(1, 20) if n % 2 == 1]\n",
    "print(quadrados)"
   ]
  },
  {
   "cell_type": "code",
   "execution_count": 49,
   "metadata": {},
   "outputs": [
    {
     "name": "stdout",
     "output_type": "stream",
     "text": [
      "[1, 9, 25, 49, 81, 121, 169, 225, 289, 361]\n"
     ]
    }
   ],
   "source": [
    "# A list comprehension acima é equivalente ao seguinte código:\n",
    "quadrados = []\n",
    "for n in range(1, 20):\n",
    "    if n % 2 == 1:\n",
    "        quadrados.append(n*n)\n",
    "print(quadrados)"
   ]
  },
  {
   "cell_type": "markdown",
   "metadata": {},
   "source": [
    "### Exercícios"
   ]
  },
  {
   "cell_type": "code",
   "execution_count": 25,
   "metadata": {},
   "outputs": [
    {
     "name": "stdout",
     "output_type": "stream",
     "text": [
      "[1, 2, 3, 4, 0]\n"
     ]
    }
   ],
   "source": [
    "# Repita o último exercício acima (lista com palavras com mais de 5 letras)\n",
    "# usando list comprehensions\n",
    "#\n",
    "# Seu código aqui\n",
    "#\n",
    "print(lst)"
   ]
  },
  {
   "cell_type": "code",
   "execution_count": 26,
   "metadata": {},
   "outputs": [],
   "source": [
    "# Para a lista abaixo, construa uma lista com o cubo dos valores absolutos dos números\n",
    "numeros = [34.6, -203.4, 44.9, 68.3, -12.2, 44.6, 12.7]\n",
    "#\n",
    "# Seu código aqui\n",
    "#"
   ]
  },
  {
   "cell_type": "code",
   "execution_count": 27,
   "metadata": {},
   "outputs": [],
   "source": [
    "# Construa uma lista de todos os números entre 1 e 100 que são divisíveis\n",
    "# por 2 mas não por 3\n",
    "#\n",
    "# Seu código aqui\n",
    "#"
   ]
  },
  {
   "cell_type": "code",
   "execution_count": 28,
   "metadata": {},
   "outputs": [],
   "source": [
    "# Ache todos os números entre 1 e 100 que tenham um 3 nele\n",
    "#\n",
    "# Seu código aqui\n",
    "#"
   ]
  }
 ],
 "metadata": {
  "kernelspec": {
   "display_name": "Python 3 (ipykernel)",
   "language": "python",
   "name": "python3"
  },
  "language_info": {
   "codemirror_mode": {
    "name": "ipython",
    "version": 3
   },
   "file_extension": ".py",
   "mimetype": "text/x-python",
   "name": "python",
   "nbconvert_exporter": "python",
   "pygments_lexer": "ipython3",
   "version": "3.8.10"
  }
 },
 "nbformat": 4,
 "nbformat_minor": 1
}
