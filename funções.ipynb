{
 "cells": [
  {
   "cell_type": "markdown",
   "metadata": {},
   "source": [
    "# Funções"
   ]
  },
  {
   "cell_type": "markdown",
   "metadata": {},
   "source": [
    "Funções são definidas pela instrução \"def\", seguida do nome da função e dos seus argumentos colocados entre parênteses.  A linha deve terminar com um \":\".  Note que os argumentos não precisam ter seus tipos definidos, o que torna a notação bem mais compacta do que linguagens como Java e C.\n",
    "\n",
    "A segunda linha em diante é considerada como o corpo da função, e deve estar indentada apropriadamente como vimos para as instruções \"if\"  e \"while\".\n",
    "\n",
    "Um valor pode ser retornado da função através da instrução \"return\".  Se a função não tiver explicitamente a instrução \"return\", Python considera que a linha após a última contém a instrução \"return\" por si só, o que faz a função retornar o Valor None."
   ]
  },
  {
   "cell_type": "code",
   "execution_count": 1,
   "metadata": {},
   "outputs": [
    {
     "name": "stdout",
     "output_type": "stream",
     "text": [
      "10 + 10 =  20\n",
      "\"Eu \" + \"Eu \" =  Eu Eu \n",
      "[1, 2, 3, 4] + [1, 2, 3, 4] =  [1, 2, 3, 4, 1, 2, 3, 4]\n",
      "(\"Python\", \"é\", \"o\", 10) + (\"Python\", \"é\", \"o\", 10) =  ('Python', 'é', 'o', 10, 'Python', 'é', 'o', 10)\n"
     ]
    }
   ],
   "source": [
    "# Uma função que retorna o \"dobro\" da variável passada como argumento.\n",
    "# Note a indentação e observe que desde que o tipo da variável aceite\n",
    "# o operador da soma a função retorna um valor coerente\n",
    "def make_twice(number):\n",
    "    return number + number\n",
    "\n",
    "print(\"10 + 10 = \", make_twice(10))\n",
    "print('\"Eu \" + \"Eu \" = ', make_twice(\"Eu \"))\n",
    "print(\"[1, 2, 3, 4] + [1, 2, 3, 4] = \", make_twice([1, 2, 3, 4]))\n",
    "print('(\"Python\", \"é\", \"o\", 10) + (\"Python\", \"é\", \"o\", 10) = ', make_twice((\"Python\", \"é\", \"o\", 10)))"
   ]
  },
  {
   "cell_type": "code",
   "execution_count": 2,
   "metadata": {},
   "outputs": [
    {
     "name": "stdout",
     "output_type": "stream",
     "text": [
      "('Antonio', '009.008.004-81', '333.567-2', 'Recife', 29, 15)\n"
     ]
    }
   ],
   "source": [
    "# O valor retornado pode ser uma lista ou tupla, o que nos permite retornar\n",
    "# vários valores\n",
    "def contribuinte(nome):\n",
    "    cpf = \"009.008.004-81\"\n",
    "    rg = \"333.567-2\"\n",
    "    cidade = \"Recife\"\n",
    "    idade = 29\n",
    "    no_dependentes = 15\n",
    "    return (nome, cpf, rg, cidade, idade, no_dependentes)\n",
    "\n",
    "print(contribuinte(\"Antonio\"))"
   ]
  },
  {
   "cell_type": "code",
   "execution_count": 3,
   "metadata": {},
   "outputs": [
    {
     "name": "stdout",
     "output_type": "stream",
     "text": [
      "Nome =  Antonio\n",
      "O valor retornado por imprima_nome() foi  None\n",
      "Bodocongó\n",
      "O valor retornado por print() foi  None\n"
     ]
    }
   ],
   "source": [
    "# Se uma função usa a instrução \"return\" sem argumento, o valor retornado\n",
    "# é o None\n",
    "def imprima_nome(nome):\n",
    "    print(\"Nome = \", nome.capitalize())\n",
    "    return\n",
    "\n",
    "print(\"O valor retornado por imprima_nome() foi \", imprima_nome(\"Antonio\"))\n",
    "print(\"O valor retornado por print() foi \", print(\"Bodocongó\"))"
   ]
  },
  {
   "cell_type": "code",
   "execution_count": 5,
   "metadata": {},
   "outputs": [
    {
     "name": "stdout",
     "output_type": "stream",
     "text": [
      "O quadrado de 5 é   25\n",
      "O quadrado de 10 é  100\n"
     ]
    }
   ],
   "source": [
    "# Observe que os parâmetros podem ter valores default.\n",
    "def quadrado(n=10):\n",
    "    tmp = n*n\n",
    "    return tmp\n",
    "\n",
    "print(\"O quadrado de 5 é  \", quadrado(5))\n",
    "print(\"O quadrado de 10 é \", quadrado())"
   ]
  },
  {
   "cell_type": "code",
   "execution_count": 6,
   "metadata": {},
   "outputs": [
    {
     "name": "stdout",
     "output_type": "stream",
     "text": [
      "['a']\n",
      "['a', 'a']\n",
      "['a', 'a', 10, 20, 30, 'a']\n"
     ]
    }
   ],
   "source": [
    "# Devemos ter cuidado se o valor default do parâmetro for um objeto mutável pois\n",
    "# o valor default só é avaliado uma vez quando da definição da função\n",
    "def app(lst=[]):\n",
    "    lst.append(\"a\")\n",
    "    return lst\n",
    "\n",
    "print(app())\n",
    "lst3 = app()\n",
    "print(lst3)\n",
    "lst3.extend([10, 20, 30])\n",
    "print(app())"
   ]
  },
  {
   "cell_type": "code",
   "execution_count": 8,
   "metadata": {},
   "outputs": [
    {
     "name": "stdout",
     "output_type": "stream",
     "text": [
      "['a']\n",
      "[1, 2, 3, 'a']\n",
      "['a', 'a']\n"
     ]
    }
   ],
   "source": [
    "# Se passarmos um valor para o parâmetro, o valor default não é tocado\n",
    "def app(lst=[]):\n",
    "    lst.append(\"a\")\n",
    "    return lst\n",
    "\n",
    "lst2 = [1, 2, 3]\n",
    "print(app())\n",
    "print(app(lst2))\n",
    "print(app())"
   ]
  },
  {
   "cell_type": "code",
   "execution_count": 9,
   "metadata": {},
   "outputs": [
    {
     "name": "stdout",
     "output_type": "stream",
     "text": [
      "['a']\n",
      "['a']\n",
      "[1, 2, 3, 'a']\n",
      "['a']\n"
     ]
    }
   ],
   "source": [
    "# No caso do valor default mutável, se quisermos preservá-lo devemos trabalhar\n",
    "# com uma cópia dele na função\n",
    "def app(lst=[]):\n",
    "    tmp = lst[:]\n",
    "    tmp.append(\"a\")\n",
    "    return tmp\n",
    "\n",
    "lst2 = [1, 2, 3]\n",
    "print(app())\n",
    "print(app())\n",
    "print(app(lst2))\n",
    "print(app())"
   ]
  },
  {
   "cell_type": "markdown",
   "metadata": {},
   "source": [
    "# Funções anônimas"
   ]
  },
  {
   "cell_type": "markdown",
   "metadata": {},
   "source": [
    "Funções anônimas são funções definidas sem terem um nome associada a elas.  Para defini-las, fazemos uso da instrução lambda.\n",
    "\n",
    "Lembre-se de que funções são um tipo de dado em Python, e que portanto quando criadas geram um objeto associado a elas contendo suas informações.  Estes objetos podem ser armazenados em variáveis, passados como argumentos de funções, retornados por funções, imprimidos e, de forma geral, usados como outro tipo qualquer de dado.\n",
    "\n",
    "As funções definidas por lambda são apenas uma maneira a mais para se criar funções e não possuem vantagens sobre funções definidas por \"def\" exceto a sua maior compacticidade."
   ]
  },
  {
   "cell_type": "code",
   "execution_count": 10,
   "metadata": {},
   "outputs": [
    {
     "name": "stdout",
     "output_type": "stream",
     "text": [
      "O quadrado de 3 é 9\n",
      "O quadrado de 3 é 9\n"
     ]
    }
   ],
   "source": [
    "# As duas formas de definir a mesma função são equivalentes entre si\n",
    "def quadrado1(n):\n",
    "    return n*n\n",
    "\n",
    "print(\"O quadrado de {} é {}\".format(3, quadrado1(3)))\n",
    "\n",
    "quadrado2 = lambda n: n*n\n",
    "print(\"O quadrado de {} é {}\".format(3, quadrado2(3)))"
   ]
  },
  {
   "cell_type": "code",
   "execution_count": 14,
   "metadata": {},
   "outputs": [
    {
     "name": "stdout",
     "output_type": "stream",
     "text": [
      "100\n"
     ]
    }
   ],
   "source": [
    "# Observe que a função lambda é um objeto que interpreta a chamada de \n",
    "# função realizada pelos parênteses.\n",
    "a = 10\n",
    "b = (lambda n: n*n)(a)\n",
    "print(b)"
   ]
  },
  {
   "cell_type": "markdown",
   "metadata": {},
   "source": [
    "Funções lambda são mais restritas do que funções normais porque não podem usar a atribuição de valores a variáveis"
   ]
  },
  {
   "cell_type": "code",
   "execution_count": 15,
   "metadata": {},
   "outputs": [
    {
     "ename": "SyntaxError",
     "evalue": "cannot assign to lambda (768894810.py, line 2)",
     "output_type": "error",
     "traceback": [
      "\u001b[0;36m  Input \u001b[0;32mIn [15]\u001b[0;36m\u001b[0m\n\u001b[0;31m    fun = lambda nome: cpf = \"000.000.000-00\"\u001b[0m\n\u001b[0m          ^\u001b[0m\n\u001b[0;31mSyntaxError\u001b[0m\u001b[0;31m:\u001b[0m cannot assign to lambda\n"
     ]
    }
   ],
   "source": [
    "# Isto dará um erro\n",
    "fun = lambda nome: cpf = \"000.000.000-00\"\n",
    "print(fun(\"xxxx\"))"
   ]
  },
  {
   "cell_type": "code",
   "execution_count": 16,
   "metadata": {},
   "outputs": [
    {
     "name": "stdout",
     "output_type": "stream",
     "text": [
      "['Antônio']\n",
      "['Antônio', 'João']\n"
     ]
    }
   ],
   "source": [
    "# Modificações a variáveis mutáveis é permitido, entretanto.\n",
    "lst = []\n",
    "fun = lambda nome: lst.append(nome)\n",
    "fun(\"Antônio\")\n",
    "print(lst)\n",
    "fun(\"João\")\n",
    "print(lst)"
   ]
  },
  {
   "cell_type": "code",
   "execution_count": 24,
   "metadata": {},
   "outputs": [
    {
     "name": "stdout",
     "output_type": "stream",
     "text": [
      "Antes:   [8.03, -2.29, 6.61, 0.98, -3.0, 4.33, -4.46, 0.08, 0.83, 6.77]\n",
      "Depois:  [-4.46, -3.0, -2.29, 0.08, 0.83, 0.98, 4.33, 6.61, 6.77, 8.03]\n",
      "Depois:  [0.08, 0.83, 0.98, -2.29, -3.0, 4.33, -4.46, 6.61, 6.77, 8.03]\n"
     ]
    }
   ],
   "source": [
    "# O grande uso de funções lambda são para funções simples, descartáveis\n",
    "# a serem usadas como argumentos para outras funções\n",
    "import random\n",
    "\n",
    "lst = [round(20*random.random() - 10, 2) for _ in range(10)]\n",
    "print(\"Antes:  \", lst)\n",
    "lst.sort()\n",
    "print(\"Depois: \", lst)\n",
    "lst.sort(key=lambda x: abs(x))\n",
    "print(\"Depois: \", lst)"
   ]
  },
  {
   "cell_type": "markdown",
   "metadata": {},
   "source": [
    "# Passagem de parâmetros"
   ]
  },
  {
   "cell_type": "code",
   "execution_count": 25,
   "metadata": {},
   "outputs": [
    {
     "name": "stdout",
     "output_type": "stream",
     "text": [
      "12\n"
     ]
    }
   ],
   "source": [
    "# Podemos chamar uma função com argumentos posicionais, como\n",
    "# vimos fazendo até agora.\n",
    "def fun(a, p, m):\n",
    "    return (a // p) % m\n",
    "\n",
    "print(fun(1000, 17, 23))"
   ]
  },
  {
   "cell_type": "code",
   "execution_count": 26,
   "metadata": {},
   "outputs": [
    {
     "name": "stdout",
     "output_type": "stream",
     "text": [
      "['Antônio', 21, 'Recife']\n"
     ]
    }
   ],
   "source": [
    "# Podemos também, entretanto, passar os argumentos pelo nome.\n",
    "# Isto tem a vantagem de que a ordem destes parâmetros não importa.\n",
    "# A única restrição é que os argumentos posicionais sejam\n",
    "# passados primeiro.\n",
    "def fun(nome, idade, cidade):\n",
    "    return [nome, idade, cidade]\n",
    "\n",
    "print(fun(\"Antônio\", cidade=\"Recife\", idade=21))"
   ]
  },
  {
   "cell_type": "code",
   "execution_count": 27,
   "metadata": {},
   "outputs": [
    {
     "name": "stdout",
     "output_type": "stream",
     "text": [
      "a =  1\n",
      "b =  2\n",
      "O tipo do parâmetro a é  <class 'int'>\n",
      "O tipo do parâmetro b é  <class 'int'>\n",
      "O tipo do parâmetro resto é <class 'tuple'> e tem valor '('abc', (0, 1, 2), (3+4j))'\n",
      "Arg #0 = abc\n",
      "Arg #1 = (0, 1, 2)\n",
      "Arg #2 = (3+4j)\n"
     ]
    }
   ],
   "source": [
    "# Existem mais 2 maneiras de aceitar parâmetros em uma função, uma\n",
    "# através de uma tupla e outra através de um dicionário. A primeira\n",
    "# forma pode ser usada para funções que devem aceitar um número\n",
    "# variável de parâmetros. Neste caso, a tupla consistirá dos\n",
    "# parâmetros extras na ordem em que são passados\n",
    "def fun(a, b, *resto):\n",
    "    print(\"a = \", a)\n",
    "    print(\"b = \", b)\n",
    "    print(\"O tipo do parâmetro a é \", type(a))\n",
    "    print(\"O tipo do parâmetro b é \", type(b))\n",
    "    print(\"O tipo do parâmetro resto é {} e tem valor '{}'\".format(type(resto), resto))\n",
    "    for idx, arg in enumerate(resto):\n",
    "        print(\"Arg #{} = {}\".format(idx, arg))\n",
    "        \n",
    "fun(1, 2, \"abc\", (0, 1, 2), 3 + 4j)"
   ]
  },
  {
   "cell_type": "code",
   "execution_count": 28,
   "metadata": {},
   "outputs": [
    {
     "name": "stdout",
     "output_type": "stream",
     "text": [
      "a =  1\n",
      "b =  2\n",
      "O tipo do parâmetro a é  <class 'int'>\n",
      "O tipo do parâmetro b é  <class 'int'>\n",
      "O tipo do parâmetro resto é <class 'tuple'> e tem valor '()'\n"
     ]
    }
   ],
   "source": [
    "# Se não houver parâmetros extras, a tupla será vazia\n",
    "fun(1, 2)"
   ]
  },
  {
   "cell_type": "code",
   "execution_count": 29,
   "metadata": {},
   "outputs": [
    {
     "name": "stdout",
     "output_type": "stream",
     "text": [
      "a =  1\n",
      "b =  2\n",
      "O tipo do parâmetro d é <class 'dict'> e tem valor '{'e': 'abc', 'f': (0, 1, 2), 'g': (3+4j)}'\n",
      "Arg e = abc\n",
      "Arg f = (0, 1, 2)\n",
      "Arg g = (3+4j)\n"
     ]
    }
   ],
   "source": [
    "# A outra forma de aceitar parâmetros é através de um dicionário.\n",
    "# Neste caso, os parâmetros extras que são passados por nome\n",
    "# serão colocados no dicionário\n",
    "def fun2(a, b, **d):\n",
    "    print(\"a = \", a)\n",
    "    print(\"b = \", b)\n",
    "    print(\"O tipo do parâmetro d é {} e tem valor '{}'\".format(type(d), d))\n",
    "    for idx, arg in d.items():\n",
    "        print(\"Arg {} = {}\".format(idx, arg))\n",
    "\n",
    "fun2(1, 2, e=\"abc\", f=(0, 1, 2), g=3 + 4j)"
   ]
  },
  {
   "cell_type": "code",
   "execution_count": 30,
   "metadata": {
    "scrolled": true
   },
   "outputs": [
    {
     "name": "stdout",
     "output_type": "stream",
     "text": [
      "a =  5\n",
      "b =  m\n",
      "O tipo do parâmetro l é <class 'tuple'> e tem valor '(1j, (1,))'\n",
      "Arg #0 = 1j\n",
      "Arg #1 = (1,)\n",
      "O tipo do parâmetro d é <class 'dict'> e tem valor '{'e': 'abc', 'f': (0, 1, 2), 'g': (3+4j)}'\n",
      "Arg e = abc\n",
      "Arg f = (0, 1, 2)\n",
      "Arg g = (3+4j)\n"
     ]
    }
   ],
   "source": [
    "# Os dois tipos de passagem de parâmetros podem ser combinado,\n",
    "# lembrando que os parâmetros posicionais tem que vir todos\n",
    "# antes dos parâmetros nominais\n",
    "def fun3(a, b, *l, **d):\n",
    "    print(\"a = \", a)\n",
    "    print(\"b = \", b)\n",
    "    print(\"O tipo do parâmetro l é {} e tem valor '{}'\".format(type(l), l))\n",
    "    for idx, arg in enumerate(l):\n",
    "        print(\"Arg #{} = {}\".format(idx, arg))\n",
    "    print(\"O tipo do parâmetro d é {} e tem valor '{}'\".format(type(d), d))\n",
    "    for idx, arg in d.items():\n",
    "        print(\"Arg {} = {}\".format(idx, arg))\n",
    "\n",
    "fun3(5, \"m\", 1j, (1,), e=\"abc\", f=(0, 1, 2), g=3 + 4j)"
   ]
  },
  {
   "cell_type": "markdown",
   "metadata": {},
   "source": [
    "# Chamadas de função"
   ]
  },
  {
   "cell_type": "code",
   "execution_count": 31,
   "metadata": {},
   "outputs": [
    {
     "name": "stdout",
     "output_type": "stream",
     "text": [
      "10\n",
      "10\n"
     ]
    }
   ],
   "source": [
    "# Podemos usar tuplas (ou listas) e dicionários para preencher\n",
    "# os valores dos parâmetros de uma função.  Isto é chamado de\n",
    "# desempacotamento de parâmetros\n",
    "def fun(a, b, c, d):\n",
    "    return a + b + c + d\n",
    "\n",
    "params = (1, 2, 3, 4)\n",
    "print(fun(*params))\n",
    "params2 = {\"a\": 1, \"b\": 2, \"c\": 3, \"d\": 4}\n",
    "print(fun(**params2))"
   ]
  },
  {
   "cell_type": "code",
   "execution_count": 32,
   "metadata": {},
   "outputs": [
    {
     "name": "stdout",
     "output_type": "stream",
     "text": [
      "(1.0, 1.5707963267948966)\n",
      "(6.123233995736766e-17+1j)\n"
     ]
    }
   ],
   "source": [
    "# Outro exemplo.\n",
    "import cmath\n",
    "\n",
    "print(cmath.polar(1j))\n",
    "print(cmath.rect(*cmath.polar(1j)))"
   ]
  },
  {
   "cell_type": "code",
   "execution_count": 33,
   "metadata": {},
   "outputs": [
    {
     "name": "stdout",
     "output_type": "stream",
     "text": [
      "Mag = 1.0    Fase = 1.5707963267948966\n"
     ]
    }
   ],
   "source": [
    "# Outro exemplo muito comum: método format de uma string\n",
    "import cmath\n",
    "\n",
    "print(\"Mag = {}    Fase = {}\".format(*cmath.polar(1j)))"
   ]
  },
  {
   "cell_type": "code",
   "execution_count": null,
   "metadata": {},
   "outputs": [],
   "source": []
  }
 ],
 "metadata": {
  "kernelspec": {
   "display_name": "Python 3 (ipykernel)",
   "language": "python",
   "name": "python3"
  },
  "language_info": {
   "codemirror_mode": {
    "name": "ipython",
    "version": 3
   },
   "file_extension": ".py",
   "mimetype": "text/x-python",
   "name": "python",
   "nbconvert_exporter": "python",
   "pygments_lexer": "ipython3",
   "version": "3.8.10"
  }
 },
 "nbformat": 4,
 "nbformat_minor": 1
}
