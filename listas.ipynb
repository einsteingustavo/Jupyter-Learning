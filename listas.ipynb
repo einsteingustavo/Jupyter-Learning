{
 "cells": [
  {
   "cell_type": "markdown",
   "metadata": {},
   "source": [
    "# Definição e acesso aos elementos"
   ]
  },
  {
   "cell_type": "code",
   "execution_count": 1,
   "metadata": {},
   "outputs": [
    {
     "name": "stdout",
     "output_type": "stream",
     "text": [
      "10 11 12\n",
      "[10, (1-2j), ['', []]]\n",
      "[]\n"
     ]
    }
   ],
   "source": [
    "# Uma lista é uma estrutura de dados sequencial cujos elementos podem ser\n",
    "# de qualquer tipo e são acessados por índices que começam em 0, i.e.,\n",
    "# se a variável lst é uma lista, então seu primeiro elemento é lst[0],\n",
    "# o segundo lst[1], etc\n",
    "# Listas são definidas usando colchetes\n",
    "lst = [10, 11, 12]  # uma lista com três elementos\n",
    "print(lst[0], lst[1], lst[2])\n",
    "\n",
    "lst = [\"Introdução\", \"a\", \"Python\", 1, 2, [10, 1 -2j, [\"\", []]]]\n",
    "print(lst[-1])         # índice negativo\n",
    "print(lst[-1][-1][1])  # Note o uso de múltiplos índices"
   ]
  },
  {
   "cell_type": "code",
   "execution_count": 2,
   "metadata": {},
   "outputs": [
    {
     "name": "stdout",
     "output_type": "stream",
     "text": [
      "[11, 12, 13, 14]\n",
      "[19, 18, 17, 16, 15, 14, 13, 12, 11, 10]\n"
     ]
    }
   ],
   "source": [
    "# Listas também suportam slices do mesmo modo que strings\n",
    "lst = [10, 11, 12, 13, 14, 15, 16, 17, 18, 19]\n",
    "print(lst[1:5])\n",
    "print(lst[::-1])"
   ]
  },
  {
   "cell_type": "code",
   "execution_count": 3,
   "metadata": {},
   "outputs": [
    {
     "name": "stdout",
     "output_type": "stream",
     "text": [
      "[1, 2, 3, 4]\n",
      "[1, 1000, 3, 4]\n",
      "carso\n",
      "String original =  casso\n",
      "String modificada =  carro\n"
     ]
    }
   ],
   "source": [
    "# Listas são o primeiro tipo de dados que vimos até agora que é mutável,\n",
    "# i.e., elas podem ser modificadas in-place.  Strings, como vimos,\n",
    "# não podem ser alteradas.  Você tem que copiá-las com a modificação\n",
    "lst = [1, 2, 3, 4]\n",
    "print(lst)\n",
    "lst[1] = 1000\n",
    "print(lst)\n",
    "s = \"casso\"\n",
    "s2 = s[0:2] + \"r\" + s[3:]\n",
    "print(s2)\n",
    "s3 = s.replace(\"s\", \"r\")\n",
    "print(\"String original = \", s)\n",
    "print(\"String modificada = \", s3)"
   ]
  },
  {
   "cell_type": "code",
   "execution_count": 4,
   "metadata": {},
   "outputs": [
    {
     "name": "stdout",
     "output_type": "stream",
     "text": [
      "[0, 1, 2, 3, 4, 5, 6, 7]\n",
      "[0, 1, 2, 1024, 2048, 4096, 8192, 4, 5, 6, 7]\n",
      "[0, 1, 2, 3, 4, 5, 6, 7]\n",
      "[1000, 1, 1001, 3, 1002, 5, 1003, 7]\n"
     ]
    }
   ],
   "source": [
    "# Usando slices podemos modificar a lista de forma mais complexa\n",
    "lst1 = [0, 1, 2, 3, 4, 5, 6, 7]\n",
    "lst2 = [0, 1, 2, 3, 4, 5, 6, 7]\n",
    "print(lst1)\n",
    "lst1[3:4] = [1024, 2048, 4096, 8192]  # Observe que o número de elementos é diferente\n",
    "print(lst1)\n",
    "print(lst2)\n",
    "lst2[::2] = [1000, 1001, 1002, 1003]   # Neste caso o número de elementos deve ser igual\n",
    "print(lst2)"
   ]
  },
  {
   "cell_type": "code",
   "execution_count": 5,
   "metadata": {},
   "outputs": [
    {
     "name": "stdout",
     "output_type": "stream",
     "text": [
      "[1, 2, 3, 4, 'banana', 'maçã', 'pera', ['', None, False], [True], False]\n"
     ]
    }
   ],
   "source": [
    "# Podemos concatenar listas como fizemos com strings\n",
    "lst = [1, 2, 3, 4] + [\"banana\", \"maçã\", \"pera\"] + [[\"\", None, False], [True], False]\n",
    "print(lst)"
   ]
  },
  {
   "cell_type": "markdown",
   "metadata": {},
   "source": [
    "### **Exercícios**"
   ]
  },
  {
   "cell_type": "code",
   "execution_count": 6,
   "metadata": {},
   "outputs": [],
   "source": [
    "# A partir da lista abaixo, crie uma nova lista onde o último elemento\n",
    "# tem apenas os elementos pares\n",
    "lst = [\"antonio\", 39, \"Recife\", [1, 2, 3, 4, 5, 6, 7, 8]]"
   ]
  },
  {
   "cell_type": "markdown",
   "metadata": {},
   "source": [
    "#  Mutabilidade, cópias e referências"
   ]
  },
  {
   "cell_type": "code",
   "execution_count": 7,
   "metadata": {},
   "outputs": [
    {
     "name": "stdout",
     "output_type": "stream",
     "text": [
      "[1, 2, 3, 1, 2, 3, 1, 2, 3, 1, 2, 3, 1, 2, 3]\n",
      "['Python', 'Python', 'Python', 'Python', 'Python', 'Python']\n",
      "[[], [], [], [], [], [], [], [], [], []]\n"
     ]
    }
   ],
   "source": [
    "# Podemos também \"multiplicar\" uma lista como fizemos com strings\n",
    "a = [1, 2, 3]*5\n",
    "print(a)\n",
    "a = [\"Python\"]*6\n",
    "print(a)\n",
    "b = [[]]*10\n",
    "print(b)"
   ]
  },
  {
   "cell_type": "code",
   "execution_count": 8,
   "metadata": {},
   "outputs": [
    {
     "name": "stdout",
     "output_type": "stream",
     "text": [
      "[[1, 2, 3], [1, 2, 3], [1, 2, 3], [1, 2, 3], [1, 2, 3]]\n",
      "[[1, 1000, 3], [1, 1000, 3], [1, 1000, 3], [1, 1000, 3], [1, 1000, 3]]\n",
      "[[500, 1000, 3], [500, 1000, 3], [500, 1000, 3], [500, 1000, 3], [500, 1000, 3]]\n",
      "[500, 1000, 3]\n"
     ]
    }
   ],
   "source": [
    "# Devemos tomar cuidado, entretanto, se usarmos um tipo de dado mutável como\n",
    "# um dos elementos e tentarmos \"multiplicar\" a lista pois o que é guardado\n",
    "# na lista é uma referência.  Esta característica da lista é replicada para\n",
    "# outros tipos de dados mutáveis que estudaremos mais adiante\n",
    "a = [1, 2, 3]\n",
    "b = [a]*5\n",
    "print(b)\n",
    "a[1] = 1000\n",
    "print(b)\n",
    "b[-1][0] = 500\n",
    "print(b)\n",
    "print(a)"
   ]
  },
  {
   "cell_type": "code",
   "execution_count": 9,
   "metadata": {},
   "outputs": [
    {
     "name": "stdout",
     "output_type": "stream",
     "text": [
      "[1, 2, 3, 4, 5]\n",
      "[1, 2, 3, 4, 5]\n",
      "[1, 2, 1024, 4, 5]\n",
      "[1, 2, 1024, 4, 5]\n",
      "True\n",
      "True\n"
     ]
    }
   ],
   "source": [
    "# Pelo fato de listas serem mutáveis e serem associadas a variáveis através de\n",
    "# referências (ponteiros), deve-se tomar cuidado ao atribuir uma variável contendo\n",
    "# uma lista a outra variável\n",
    "a = [1, 2, 3, 4, 5]\n",
    "b = a\n",
    "print(a)\n",
    "print(b)\n",
    "b[2] = 1024\n",
    "print(a)\n",
    "print(b)\n",
    "print(a == b)\n",
    "print(a is b)"
   ]
  },
  {
   "cell_type": "code",
   "execution_count": 10,
   "metadata": {},
   "outputs": [
    {
     "name": "stdout",
     "output_type": "stream",
     "text": [
      "[1.0, 2, 3.141592653]\n",
      "[1.0, 1024, 3.141592653]\n",
      "[1.0, 2, 3.141592653]\n",
      "False\n"
     ]
    }
   ],
   "source": [
    "# Se quisermos ter uma cópia da lista devemos usar slices pois elas criam\n",
    "# novas instâncias de listas.  Podemos também usar o método copy() das listas\n",
    "# (teste por você mesmo)\n",
    "a = [1.0, 2, 3.141592653]\n",
    "print(a)\n",
    "b = a[:]\n",
    "b[1] = 2**10\n",
    "print(b)\n",
    "print(a)\n",
    "print(a is b)"
   ]
  },
  {
   "cell_type": "code",
   "execution_count": 11,
   "metadata": {},
   "outputs": [
    {
     "name": "stdout",
     "output_type": "stream",
     "text": [
      "[[1, 2, 3, 4], 1, 2]\n",
      "[[1, 2, 3, 4], 1, 2]\n",
      "False\n",
      "True\n",
      "[[], 1, 2]\n",
      "[[], 1, 2]\n"
     ]
    }
   ],
   "source": [
    "# Entretanto, a cópia é \"rasa\", i.e., não ocorre para os elementos mutáveis\n",
    "# dentro da lista\n",
    "lst1 = [[1, 2, 3, 4], 1, 2]\n",
    "lst2 = lst1[:]\n",
    "print(lst1)\n",
    "print(lst2)\n",
    "print(lst1 is lst2)\n",
    "print(lst1[0] is lst2[0])\n",
    "lst2[0][:] = []\n",
    "print(lst1)\n",
    "print(lst2)"
   ]
  },
  {
   "cell_type": "code",
   "execution_count": 12,
   "metadata": {},
   "outputs": [
    {
     "name": "stdout",
     "output_type": "stream",
     "text": [
      "[[1, 2, 3, 4], 1, 2]\n",
      "[[1, 2, 3, 4], 1, 2]\n",
      "[[1, 2, 3, 4], 1, 2]\n",
      "[[], 1, 2]\n"
     ]
    }
   ],
   "source": [
    "# Para garantir a independência entre as duas listas, use a função deepcopy()\n",
    "# do módulo copy\n",
    "# Referência: file:///usr/share/doc/python3/html/library/copy.html\n",
    "import copy\n",
    "\n",
    "lst1 = [[1, 2, 3, 4], 1, 2]\n",
    "lst2 = copy.deepcopy(lst1)\n",
    "print(lst1)\n",
    "print(lst2)\n",
    "lst2[0][:] = []\n",
    "print(lst1)\n",
    "print(lst2)"
   ]
  },
  {
   "cell_type": "markdown",
   "metadata": {},
   "source": [
    "### **Exercícios**"
   ]
  },
  {
   "cell_type": "code",
   "execution_count": 66,
   "metadata": {},
   "outputs": [
    {
     "name": "stdout",
     "output_type": "stream",
     "text": [
      "['antonio', 39, 'Recife', [2, 4, 6, 8]]\n",
      "[1, 2, 3, 4, 5, 6, 7, 8]\n"
     ]
    }
   ],
   "source": [
    "# Dado o código abaixo, modifique a lista \"in-place\" onde o último elemento\n",
    "# deve conter apenas os elementos pares.  Você deve fazer isso sem modificar\n",
    "# a lista within_lst\n",
    "lst = [\"antonio\", 39, \"Recife\", [1, 2, 3, 4, 5, 6, 7, 8]]\n",
    "within_lst = lst[-1]\n",
    "#\n",
    "# Coloque seu código aqui\n",
    "#\n",
    "def filter_numbers(list):\n",
    "    return True if list%2==0 else False\n",
    "\n",
    "lst[3] = list(filter(filter_numbers, lst[3]))\n",
    "\n",
    "print(lst)  # deve sair [\"antonio\", 39, \"Recife\", [2, 4, 6, 8]]\n",
    "print(within_lst)  # deve sair [1, 2, 3, 4, 5, 6, 7, 8]"
   ]
  },
  {
   "cell_type": "markdown",
   "metadata": {},
   "source": [
    "#  Outras propriedades"
   ]
  },
  {
   "cell_type": "code",
   "execution_count": 14,
   "metadata": {},
   "outputs": [
    {
     "name": "stdout",
     "output_type": "stream",
     "text": [
      "[]\n",
      "True\n",
      "True\n",
      "Ok!\n"
     ]
    }
   ],
   "source": [
    "# Uma lista vazia tem o mesmo valor booleano que False\n",
    "print([] and True)\n",
    "print([1] and True)\n",
    "print([\"\"] and [None] and [False] and True)  # Nenhum dos primeiros 3 é equivalente a False\n",
    "print(\"\" or None or False or [] or \"Ok!\")  # Todos os 4 primeiros são equivalentes a False"
   ]
  },
  {
   "cell_type": "code",
   "execution_count": 15,
   "metadata": {},
   "outputs": [
    {
     "name": "stdout",
     "output_type": "stream",
     "text": [
      "Antônio 39 Recife\n"
     ]
    }
   ],
   "source": [
    "# Python tem uma funcionalidade chamada de list unpacking.  Ela consiste em acessar\n",
    "# os elementos individuais de uma lista associando nomes\n",
    "nome, cidade, idade = [\"Antônio\", \"Recife\", 39]\n",
    "print(nome, idade, cidade)"
   ]
  },
  {
   "cell_type": "code",
   "execution_count": 16,
   "metadata": {},
   "outputs": [
    {
     "name": "stdout",
     "output_type": "stream",
     "text": [
      "['P', 'y', 't', 'h', 'o', 'n']\n"
     ]
    }
   ],
   "source": [
    "# Podemos criar uma lista a partir de qualquer outro tipo de dados sequencial\n",
    "# usando o construtor list() (até agora só estudamos 2 tipos de dados sequencial,\n",
    "# strings e listas, mas existem outros)\n",
    "lst = list(\"Python\")\n",
    "print(lst)"
   ]
  },
  {
   "cell_type": "code",
   "execution_count": 68,
   "metadata": {},
   "outputs": [
    {
     "name": "stdout",
     "output_type": "stream",
     "text": [
      "[1, 2, 3, 4, 5, 6, 7, 8, 9, 10]\n",
      "[9, 8, 7, 6, 5, 4, 3, 2, 1, 0]\n",
      "[(1, 9), (2, 8), (3, 7), (4, 6), (5, 5), (6, 4), (7, 3), (8, 2), (9, 1), (10, 0)]\n",
      "[(0, 1), (1, 2), (2, 3), (3, 4), (4, 5), (5, 6), (6, 7), (7, 8), (8, 9), (9, 10)]\n"
     ]
    }
   ],
   "source": [
    "# Exemplos de construção de listas a partir de sequências (ou iterators)\n",
    "# Referência: file:///usr/share/doc/python3/html/library/functions.html#zip\n",
    "#             file:///usr/share/doc/python3/html/library/functions.html#func-range\n",
    "a = list(range(1, 11))\n",
    "b = list(range(9, -1, -1))\n",
    "c = list(zip(a, b))    # O que você acha que aconteceria se a e b tivessem tamanhos diferentes? (ele para quando a menor sequencia acabar)\n",
    "                       # Compare com zip_longest do módulo itertools\n",
    "                       # Referência: file:///usr/share/doc/python3/html/library/itertools.html#itertools.zip_longest\n",
    "print(a)\n",
    "print(b)    # Você consegue imaginar alguma maneira de criar b a partir de a?\n",
    "print(c)\n",
    "print(list(enumerate(a)))"
   ]
  },
  {
   "cell_type": "markdown",
   "metadata": {},
   "source": [
    "### **Exercícios**"
   ]
  },
  {
   "cell_type": "code",
   "execution_count": 70,
   "metadata": {},
   "outputs": [
    {
     "name": "stdout",
     "output_type": "stream",
     "text": [
      "[[1, 'Ímpar']]\n"
     ]
    }
   ],
   "source": [
    "# Usando a função cycle do módulo itertools, crie, a partir das duas listas abaixo,\n",
    "# uma lista de pares (número, \"par / ímpar\") de 1 até 100\n",
    "lst1 = list(range(1, 101))\n",
    "lst2 = [\"Par\", \"Ímpar\"]\n",
    "result = [[1, \"Ímpar\"]]  # Seu código aqui\n",
    "\n",
    "def filter_par(list):\n",
    "    return True if list%2==0 else False\n",
    "\n",
    "def filter_impar(list):\n",
    "    return True if list%2!=0 else False\n",
    "\n",
    "pares = list(filter(filter_par, lst1))\n",
    "impares = list(filter(filter_impar, lst1))\n",
    "\n",
    "print(result)"
   ]
  },
  {
   "cell_type": "markdown",
   "metadata": {},
   "source": [
    "# Operações sobre listas"
   ]
  },
  {
   "cell_type": "code",
   "execution_count": 19,
   "metadata": {},
   "outputs": [
    {
     "name": "stdout",
     "output_type": "stream",
     "text": [
      "Comprimento de lst1 = 5\n",
      "[1, 2, 3, 2, 1, 9, 8, 7, 8, 9]\n",
      "Max(lst1) = 3\tmin(lst2) = 7\n",
      "O número 2 ocorre em lst1 na posição 1\n",
      "O número 8 ocorre 2 vezes em lst2\n",
      "False\n",
      "True\n"
     ]
    }
   ],
   "source": [
    "# Listas tem o mesmo conjunto de operações que as operações básicas\n",
    "# de strings\n",
    "# Referência: file:///usr/share/doc/python3/html/library/stdtypes.html#sequence-types-list-tuple-range\n",
    "lst1 = [1, 2, 3, 2, 1]\n",
    "lst2 = [9, 8, 7, 8, 9]\n",
    "print(\"Comprimento de lst1 = {}\".format(len(lst1)))\n",
    "print(lst1 + lst2)\n",
    "print(\"Max(lst1) = {}\\tmin(lst2) = {}\".format(max(lst1), min(lst2)))\n",
    "print(\"O número 2 ocorre em lst1 na posição {}\".format(lst1.index(2)))\n",
    "print(\"O número 8 ocorre {} vezes em lst2\".format(lst2.count(8)))\n",
    "print(7 in lst1)\n",
    "print(2 not in lst2)"
   ]
  },
  {
   "cell_type": "code",
   "execution_count": 20,
   "metadata": {},
   "outputs": [
    {
     "name": "stdout",
     "output_type": "stream",
     "text": [
      "[1, 2, 3, 2, 1]\n",
      "[1, 2, 3, 2, 1, 4, 5]\n",
      "5\n",
      "[1, 2, 3, 2, 1, 4]\n",
      "1\n",
      "[2, 3, 2, 1, 4]\n"
     ]
    }
   ],
   "source": [
    "# Além destas operações, listas tem um conjunto próprio de métodos.\n",
    "# Muitos destes métodos são para modificar a lista. O método append()\n",
    "# é usado para inserir um elemento no final, enquanto o método pop()\n",
    "# é usado para retirar um elemento da lista, por default do final\n",
    "# Referência: file:///usr/share/doc/python3/html/library/stdtypes.html#mutable-sequence-types\n",
    "print(lst1)\n",
    "lst1.append(4)\n",
    "lst1.append(5)\n",
    "print(lst1)\n",
    "a = lst1.pop()\n",
    "print(a)\n",
    "print(lst1)\n",
    "a = lst1.pop(0)  # extrai elemento do início.  Possível mas ineficiente\n",
    "print(a)\n",
    "print(lst1)"
   ]
  },
  {
   "cell_type": "code",
   "execution_count": 21,
   "metadata": {},
   "outputs": [
    {
     "name": "stdout",
     "output_type": "stream",
     "text": [
      "Antes  =  [1, 2, 3, 4, 5]\n",
      "Depois =  [1, 2, 3, 4, 5, 10, 11, 12]\n"
     ]
    }
   ],
   "source": [
    "# Um outro método parecido com append() é o extend(), que estende a lista com outra lista\n",
    "# (não outro elemento)\n",
    "lst1 = [1, 2, 3, 4, 5]\n",
    "lst2 = [10, 11, 12]\n",
    "print(\"Antes  = \", lst1)\n",
    "lst1.extend(lst2)\n",
    "print(\"Depois = \", lst1)"
   ]
  },
  {
   "cell_type": "code",
   "execution_count": 22,
   "metadata": {},
   "outputs": [
    {
     "name": "stdout",
     "output_type": "stream",
     "text": [
      "Antes  =  [1, 2, 3, 4, 5]\n",
      "Depois =  [1, 2, 3, 4, 5, [10, 11, 12]]\n"
     ]
    }
   ],
   "source": [
    "# Compare o método append() com o extend() anterior\n",
    "lst1 = [1, 2, 3, 4, 5]\n",
    "lst2 = [10, 11, 12]\n",
    "print(\"Antes  = \", lst1)\n",
    "lst1.append(lst2)\n",
    "print(\"Depois = \", lst1)"
   ]
  },
  {
   "cell_type": "code",
   "execution_count": 23,
   "metadata": {},
   "outputs": [
    {
     "name": "stdout",
     "output_type": "stream",
     "text": [
      "[1, 2, 3, 4, 5, 6, 7, 8]\n",
      "[1, 2, 3, 5, 6, 7, 8]\n",
      "[2, 5, 7]\n"
     ]
    }
   ],
   "source": [
    "# Podemos remover alguns elementos de uma lista usando a função del()\n",
    "lst1 = [1, 2, 3, 4, 5, 6, 7, 8]\n",
    "print(lst1)\n",
    "del lst1[3:4]\n",
    "print(lst1)\n",
    "del lst1[::2]\n",
    "print(lst1)"
   ]
  },
  {
   "cell_type": "code",
   "execution_count": 24,
   "metadata": {},
   "outputs": [
    {
     "name": "stdout",
     "output_type": "stream",
     "text": [
      "Antes  =  [1, 2, 3, 4]\n",
      "Depois =  []\n"
     ]
    }
   ],
   "source": [
    "# Podemos remover todos os elementos da lista com o método clear(), que é equivalente a\n",
    "# del lst[:]\n",
    "lst1 = [1, 2, 3, 4]\n",
    "print(\"Antes  = \", lst1)\n",
    "lst1.clear()\n",
    "print(\"Depois = \", lst1)"
   ]
  },
  {
   "cell_type": "code",
   "execution_count": 25,
   "metadata": {},
   "outputs": [
    {
     "name": "stdout",
     "output_type": "stream",
     "text": [
      "[0, 1, 2, 3, 4, 5, 6, 7, 8]\n",
      "[0, 1, 2, 3, 4, 6, 6, 7, 8]\n",
      "True\n"
     ]
    }
   ],
   "source": [
    "# Listas podem ser comparadas entre si.  A comparação é feita elemento por\n",
    "# elemento começando do primeiro elemento (o de índice 0).  Uma lista é\n",
    "# considerada maior do que outra se o primeiro elemento da 1ª lista que\n",
    "# difere do elemento com o mesmo índice na 2ª lista for maior do que este.\n",
    "lst1 = [0, 1, 2, 3, 4, 5, 6, 7, 8]\n",
    "lst2 = [0, 1, 2, 3, 4, 6, 6, 7, 8]\n",
    "print(lst1)\n",
    "print(lst2)\n",
    "print(lst1 < lst2)"
   ]
  },
  {
   "cell_type": "code",
   "execution_count": 26,
   "metadata": {},
   "outputs": [
    {
     "name": "stdout",
     "output_type": "stream",
     "text": [
      "Antes do sort:   [0, 2, 4, 6, 8, 1, 3, 5, 7]\n",
      "Depois do sort:  [0, 1, 2, 3, 4, 5, 6, 7, 8]\n",
      "Depois do reverse:  [8, 7, 6, 5, 4, 3, 2, 1, 0]\n"
     ]
    }
   ],
   "source": [
    "# Listas tem 2 métodos exclusivos a elas que as modificam sem gerar nenhuma cópia\n",
    "# delas: reverse() e sort()\n",
    "lst1 = [0, 2, 4, 6, 8, 1, 3, 5, 7]\n",
    "print(\"Antes do sort:  \", lst1)\n",
    "lst1.sort()\n",
    "print(\"Depois do sort: \", lst1)\n",
    "lst1.reverse()\n",
    "print(\"Depois do reverse: \", lst1)"
   ]
  },
  {
   "cell_type": "code",
   "execution_count": 27,
   "metadata": {},
   "outputs": [
    {
     "name": "stdout",
     "output_type": "stream",
     "text": [
      "None\n"
     ]
    }
   ],
   "source": [
    "# Ambos os métodos retornam None para enfatizar que, diferentemente, dos métodos\n",
    "# de strings, eles não retornam nenhuma cópia\n",
    "print(lst1.sort())"
   ]
  },
  {
   "cell_type": "code",
   "execution_count": 28,
   "metadata": {},
   "outputs": [
    {
     "name": "stdout",
     "output_type": "stream",
     "text": [
      "[9, 8, 7, 6, 5, 4, 3]\n",
      "[9, 8, 7, 6, 5, 4, 3]\n"
     ]
    }
   ],
   "source": [
    "# O método sort() tem um argumento, reverse, que permite a ordenação da lista ser\n",
    "# feita em ordem reversa\n",
    "lst1 = [3, 4, 5, 6, 7, 8, 9]\n",
    "lst1.sort(reverse=True)\n",
    "print(lst1)\n",
    "lst1 = [3, 4, 5, 6, 7, 8, 9]\n",
    "lst1.reverse()\n",
    "print(lst1)"
   ]
  },
  {
   "cell_type": "code",
   "execution_count": 29,
   "metadata": {},
   "outputs": [
    {
     "name": "stdout",
     "output_type": "stream",
     "text": [
      "[0, 1, 2, 3, 4, 5, 6, 7, 8, 9]\n",
      "[9, 8, 7, 6, 5, 4, 3, 2, 1, 0]\n"
     ]
    }
   ],
   "source": [
    "# Lembre-se também que podemos inverter uma lista aplicando slice.  Isto gera uma\n",
    "# cópia da lista, entretanto\n",
    "lst1 = list(range(10))\n",
    "lst2 = lst1[::-1]\n",
    "print(lst1)\n",
    "print(lst2)"
   ]
  },
  {
   "cell_type": "code",
   "execution_count": 30,
   "metadata": {
    "scrolled": true
   },
   "outputs": [
    {
     "name": "stdout",
     "output_type": "stream",
     "text": [
      "['e', 'a', 'de', 'de', 'de', 'Python', 'Federal', 'Sistemas', 'Pernambuco', 'Eletrônica', 'Disciplina', 'Introdução', 'Universidade', 'Departamento']\n"
     ]
    }
   ],
   "source": [
    "# O método sort() tem também um outro argumento que fornece uma função a ser aplicada\n",
    "# a cada elemento da lista antes de se fazer a comparação.  Por exemplo, para\n",
    "# ordenarmos uma lista de strings por tamanho crescente de strings podemos usar\n",
    "# o seguinte\n",
    "lst1 = [\"Universidade\", \"Federal\", \"de\", \"Pernambuco\", \"Departamento\", \"de\",\n",
    "        \"Eletrônica\", \"e\", \"Sistemas\", \"Disciplina\", \"de\", \"Introdução\", \"a\",\n",
    "        \"Python\"]\n",
    "lst1.sort(key=lambda x: len(x))\n",
    "print(lst1)"
   ]
  },
  {
   "cell_type": "markdown",
   "metadata": {},
   "source": [
    "### **Exercícios**"
   ]
  },
  {
   "cell_type": "code",
   "execution_count": 31,
   "metadata": {},
   "outputs": [
    {
     "name": "stdout",
     "output_type": "stream",
     "text": [
      "[]\n"
     ]
    }
   ],
   "source": [
    "# Construa a lista lst abaixo para conter, em ordem numérica reversa, todos os elementos\n",
    "# dos objetos obj1, obj2 e obj3\n",
    "lst = []\n",
    "obj1, obj2, obj3 = list(range(10, 20, 2)), [3, 6, 9, 17, 21], [-6, -2, 0, 13, 29]\n",
    "#\n",
    "# Seu código aqui\n",
    "#\n",
    "print(lst)"
   ]
  },
  {
   "cell_type": "markdown",
   "metadata": {},
   "source": [
    "# Listas e strings"
   ]
  },
  {
   "cell_type": "code",
   "execution_count": 32,
   "metadata": {},
   "outputs": [
    {
     "name": "stdout",
     "output_type": "stream",
     "text": [
      "Introdução a Python\n",
      "Uma\tdisciplina\tofertada\tpelo\n",
      "prof. Hermano\n",
      "['Introdução', 'a', 'Python', 'Uma', 'disciplina', 'ofertada', 'pelo', 'prof.', 'Hermano']\n"
     ]
    }
   ],
   "source": [
    "# Agora que vimos listas podemos voltar e estudar alguns métodos de string\n",
    "# que ou aceitam ou retornam listas\n",
    "# split() divide uma string em elementos separados por um separator que por default\n",
    "# são espaços em branco (newlines, espaço em branco, tabs e alguns outros)\n",
    "# Os separadores não são guardados\n",
    "# Referência: file:///usr/share/doc/python3/html/library/stdtypes.html#str.split\n",
    "a = \"Introdução a Python\\nUma\\tdisciplina\\tofertada\\tpelo\\nprof. Hermano\"\n",
    "print(a)\n",
    "lst1 = a.split()\n",
    "print(lst1)"
   ]
  },
  {
   "cell_type": "code",
   "execution_count": 33,
   "metadata": {},
   "outputs": [
    {
     "name": "stdout",
     "output_type": "stream",
     "text": [
      "1, 2, 3, 4, 5, 6\n",
      "['1', ' 2', ' 3', ' 4', ' 5', ' 6']\n",
      "['1', '2', '3', '4', '5', '6']\n"
     ]
    }
   ],
   "source": [
    "# O método split() aceita um argumento que é o separador a ser usado\n",
    "b = \"1, 2, 3, 4, 5, 6\"\n",
    "print(b)\n",
    "lst1 = b.split(\",\")\n",
    "print(lst1)\n",
    "lst1 = b.split(\", \")\n",
    "print(lst1)"
   ]
  },
  {
   "cell_type": "code",
   "execution_count": 34,
   "metadata": {},
   "outputs": [
    {
     "name": "stdout",
     "output_type": "stream",
     "text": [
      "['1', '2', '3', '4, 5, 6']\n"
     ]
    }
   ],
   "source": [
    "# O método split() ainda aceita um segundo argumento para definir quantos splits\n",
    "# devem ser feitos\n",
    "b = \"1, 2, 3, 4, 5, 6\"\n",
    "\n",
    "lst2 = b.split(\", \", 3)\n",
    "print(lst2)   # Observe o último elemento da lista"
   ]
  },
  {
   "cell_type": "code",
   "execution_count": 35,
   "metadata": {
    "scrolled": true
   },
   "outputs": [
    {
     "name": "stdout",
     "output_type": "stream",
     "text": [
      "\n",
      "Introdução a Python\n",
      "Uma\tdisciplina\tofertada\tpelo\n",
      "prof. Hermano\n",
      "1, 2, 3, 4, 5, 6\n",
      "1 / 2 / 3 / 4 / 5 / 6\n"
     ]
    }
   ],
   "source": [
    "# O método join() da classe str parcialmente reverte o que split() faz\n",
    "# A ressalva é que se você usou split() sem argumentos a string resultante\n",
    "# pode não ser idêntica à original.\n",
    "# Observe que o método join() utilizado é o da string provendo o separador\n",
    "b = \" \".join(lst)\n",
    "print(b)\n",
    "print(a)\n",
    "a = \"1, 2, 3, 4, 5, 6\"\n",
    "lst = a.split(\", \")\n",
    "c = \" / \".join(lst)\n",
    "print(a)\n",
    "print(c)"
   ]
  },
  {
   "cell_type": "code",
   "execution_count": 36,
   "metadata": {},
   "outputs": [
    {
     "name": "stdout",
     "output_type": "stream",
     "text": [
      "Departamento de Eletrônica e Sistemas da Universidade Federal de Pernambuco\n"
     ]
    }
   ],
   "source": [
    "# O método join é o método recomendado para concatenar strings\n",
    "s = \" \".join([\"Departamento\", \"de\", \"Eletrônica\", \"e\", \"Sistemas\",\n",
    "              \"da\", \"Universidade\", \"Federal\", \"de\", \"Pernambuco\"])\n",
    "print(s)"
   ]
  },
  {
   "cell_type": "code",
   "execution_count": 37,
   "metadata": {},
   "outputs": [
    {
     "name": "stdout",
     "output_type": "stream",
     "text": [
      "Uma linha\n",
      "Duas linhas   \n",
      "  Três linhas\n",
      "  e para terminar, a quarta linha\n",
      "['Uma linha', 'Duas linhas   ', '  Três linhas', '  e para terminar, a quarta linha']\n"
     ]
    }
   ],
   "source": [
    "# Um método de strings parecido com split() é o splitlines(), que retorna\n",
    "# uma lista de linhas contidas na string e que eram separadas por newlines\n",
    "a = \"Uma linha\\nDuas linhas   \\n  Três linhas\\n  e para terminar, a quarta linha\"\n",
    "print(a)\n",
    "lst = a.splitlines()\n",
    "print(lst)"
   ]
  },
  {
   "cell_type": "markdown",
   "metadata": {},
   "source": [
    "### **Exercícios**"
   ]
  },
  {
   "cell_type": "code",
   "execution_count": 38,
   "metadata": {},
   "outputs": [
    {
     "name": "stdout",
     "output_type": "stream",
     "text": [
      "Se essa rua\n",
      "Se essa rua fosse minha\n",
      "Eu mandava\n",
      "Eu mandava ladrilhar\n",
      "Com pedrinhas\n",
      "Com pedrinhas de brilhante\n",
      "Para o meu\n",
      "Para o meu amor passar\n",
      "Nessa rua\n",
      "Nessa rua tem um bosque\n",
      "Que se chama\n",
      "Que se chama solidão\n"
     ]
    }
   ],
   "source": [
    "# Junte todas as linhas da string s abaixo em uma única linha e coloque dois\n",
    "# espaços entre cada palavra, convertendo todas as letras para minúsculas\n",
    "# exceto a 1ª letra\n",
    "s = \"\"\"Se essa rua\n",
    "Se essa rua fosse minha\n",
    "Eu mandava\n",
    "Eu mandava ladrilhar\n",
    "Com pedrinhas\n",
    "Com pedrinhas de brilhante\n",
    "Para o meu\n",
    "Para o meu amor passar\n",
    "Nessa rua\n",
    "Nessa rua tem um bosque\n",
    "Que se chama\n",
    "Que se chama solidão\"\"\"\n",
    "result = s\n",
    "print(result)"
   ]
  },
  {
   "cell_type": "markdown",
   "metadata": {},
   "source": [
    "# Tuplas"
   ]
  },
  {
   "cell_type": "code",
   "execution_count": 39,
   "metadata": {},
   "outputs": [
    {
     "name": "stdout",
     "output_type": "stream",
     "text": [
      "(1, 2, 3)\n",
      "(6, 5, 4, 3, 2, 1)\n",
      "(1, 2, 3, 4, 5, 6, 1, 2, 3, 4, 5, 6, 1, 2, 3, 4, 5, 6, 1, 2, 3, 4, 5, 6)\n"
     ]
    }
   ],
   "source": [
    "# Tuplas são um tipo de dados bem semelhante a listas, só que imutáveis\n",
    "# Tuplas são definidas usando parênteses\n",
    "a = (1, 2, 3, 4, 5, 6)\n",
    "print(a[:3])\n",
    "print(a[::-1])\n",
    "print(a*4)"
   ]
  },
  {
   "cell_type": "code",
   "execution_count": 40,
   "metadata": {},
   "outputs": [
    {
     "name": "stdout",
     "output_type": "stream",
     "text": [
      "3\n",
      "(3,)\n",
      "1\n"
     ]
    }
   ],
   "source": [
    "# Existe uma syntaxe especial para uma tupla de um único elemento\n",
    "a = (3)\n",
    "b = (3,)\n",
    "print(a)  # Número 3\n",
    "print(b)  # Tupla com número 3\n",
    "print(len(b))"
   ]
  },
  {
   "cell_type": "code",
   "execution_count": 41,
   "metadata": {},
   "outputs": [],
   "source": [
    "# Pelo fato de serem imutáveis, tuplas são ligeiramente mais eficientes e podem\n",
    "# ser usadas como hash (veremos isso quando estudarmos dicionários)"
   ]
  },
  {
   "cell_type": "code",
   "execution_count": 42,
   "metadata": {},
   "outputs": [
    {
     "name": "stdout",
     "output_type": "stream",
     "text": [
      "3 4 5\n"
     ]
    }
   ],
   "source": [
    "# Tuplas são muito usadas no packing / unpacking de variáveis.  Note que tuplas não\n",
    "# necessariamente usam parênteses, de modo que o exemplo abaixo pode ser escrito\n",
    "# sem parênteses (teste por você mesmo)\n",
    "a, b, c = (3, 4, 5)\n",
    "print(a, b, c)"
   ]
  },
  {
   "cell_type": "code",
   "execution_count": 43,
   "metadata": {},
   "outputs": [
    {
     "name": "stdout",
     "output_type": "stream",
     "text": [
      "Antes:  a = 2,  b = 10\n",
      "Depois: a = 10, b = 2\n"
     ]
    }
   ],
   "source": [
    "# Quando fazemos o unpacking, a associação entre elementos da tuple / lista e as\n",
    "# variáveis é feita em paralelo.  Isto permite fazermos a troca entre conteúdos\n",
    "# de duas variáveis\n",
    "a, b = 2, 10\n",
    "print(\"Antes:  a = {},  b = {}\".format(a, b))\n",
    "a, b = b, a\n",
    "print(\"Depois: a = {}, b = {}\".format(a, b))"
   ]
  },
  {
   "cell_type": "code",
   "execution_count": 44,
   "metadata": {},
   "outputs": [
    {
     "name": "stdout",
     "output_type": "stream",
     "text": [
      "ERROR:  name 'xyz' is not defined\n"
     ]
    }
   ],
   "source": [
    "# Isto significa também que o código abaixo não funcionará (assumindo que xyz ainda\n",
    "# não foi definida)\n",
    "try:\n",
    "    xyz, w = 10, xyz + 3\n",
    "except NameError as e:\n",
    "    print(\"ERROR: \", e)"
   ]
  }
 ],
 "metadata": {
  "kernelspec": {
   "display_name": "Python 3 (ipykernel)",
   "language": "python",
   "name": "python3"
  },
  "language_info": {
   "codemirror_mode": {
    "name": "ipython",
    "version": 3
   },
   "file_extension": ".py",
   "mimetype": "text/x-python",
   "name": "python",
   "nbconvert_exporter": "python",
   "pygments_lexer": "ipython3",
   "version": "3.8.10"
  }
 },
 "nbformat": 4,
 "nbformat_minor": 1
}
