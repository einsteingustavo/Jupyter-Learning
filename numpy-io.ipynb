{
 "cells": [
  {
   "cell_type": "markdown",
   "metadata": {},
   "source": [
    "# Numpy"
   ]
  },
  {
   "cell_type": "code",
   "execution_count": 1,
   "metadata": {},
   "outputs": [],
   "source": [
    "%matplotlib inline\n",
    "import numpy as np\n",
    "import matplotlib.pyplot as plt"
   ]
  },
  {
   "cell_type": "markdown",
   "metadata": {},
   "source": [
    "## Informações sobre a array"
   ]
  },
  {
   "cell_type": "code",
   "execution_count": 2,
   "metadata": {},
   "outputs": [
    {
     "name": "stdout",
     "output_type": "stream",
     "text": [
      "Formato do array =  (3, 4)\n",
      "Número de dimensões =  2\n",
      "Número de elementos =  12\n",
      "Tamanho em bytes =  96\n",
      "Tipo de cada elemento =  int64\n"
     ]
    }
   ],
   "source": [
    "# Numpy arrays possuem alguns atributos que fornecem informações sobre \n",
    "# suas características\n",
    "a = np.array([[0, 1, 2, 3],[4, 5, 6, 7],[8, 9, 10, 11]])\n",
    "print(\"Formato do array = \", a.shape)\n",
    "print(\"Número de dimensões = \", a.ndim)\n",
    "print(\"Número de elementos = \", a.size)\n",
    "print(\"Tamanho em bytes = \", a.nbytes)\n",
    "print(\"Tipo de cada elemento = \", a.dtype)"
   ]
  },
  {
   "cell_type": "code",
   "execution_count": 3,
   "metadata": {},
   "outputs": [
    {
     "name": "stdout",
     "output_type": "stream",
     "text": [
      "Tipo do elemento de b =  bool\n"
     ]
    }
   ],
   "source": [
    "# Os tipos mais comuns de elementos são inteiros (de vários tamanhos),\n",
    "# floats e booleanos\n",
    "b = np.array([[True, False, False], [False, True, False]])\n",
    "print(\"Tipo do elemento de b = \", b.dtype)"
   ]
  },
  {
   "cell_type": "code",
   "execution_count": 4,
   "metadata": {},
   "outputs": [
    {
     "name": "stdout",
     "output_type": "stream",
     "text": [
      "Tamanho em bytes =  96\n",
      "Tipo de cada elemento =  float64\n"
     ]
    }
   ],
   "source": [
    "# Podemos forçar que a array seja criada com um determinado tipo\n",
    "# usando o parâmetro dtype do construtor da array\n",
    "c = np.array([[0, 1, 2, 3],[4, 5, 6, 7],[8, 9, 10, 11]], dtype=\"float64\")\n",
    "print(\"Tamanho em bytes = \", c.nbytes)\n",
    "print(\"Tipo de cada elemento = \", c.dtype)"
   ]
  },
  {
   "cell_type": "code",
   "execution_count": 5,
   "metadata": {},
   "outputs": [
    {
     "name": "stdout",
     "output_type": "stream",
     "text": [
      "c = \n",
      " [[ 1. +0.j         0.5+0.8660254j -0.5+0.8660254j]\n",
      " [ 1. +0.j        -0.5+0.8660254j  0.5+0.8660254j]]\n",
      "Parte imaginária de c = \n",
      " [[0.        0.8660254 0.8660254]\n",
      " [0.        0.8660254 0.8660254]]\n",
      "Parte real de c = \n",
      " [[ 1.   0.5 -0.5]\n",
      " [ 1.  -0.5  0.5]]\n"
     ]
    }
   ],
   "source": [
    "# Alguns atributos se comportam como funções.  Por exemplo, para \n",
    "# obter a parte imaginária dos elementos de uma array, use o\n",
    "# atributo imag\n",
    "a = np.array([[0, 1j, 2j], [0, 2j, 1j]])\n",
    "c = np.exp(a*np.pi/3)\n",
    "print(\"c = \\n\", c)\n",
    "print(\"Parte imaginária de c = \\n\", c.imag)\n",
    "print(\"Parte real de c = \\n\", c.real)"
   ]
  },
  {
   "cell_type": "code",
   "execution_count": 6,
   "metadata": {},
   "outputs": [
    {
     "name": "stdout",
     "output_type": "stream",
     "text": [
      "Transposta de c = \n",
      " [[ 1. +0.j         1. +0.j       ]\n",
      " [ 0.5+0.8660254j -0.5+0.8660254j]\n",
      " [-0.5+0.8660254j  0.5+0.8660254j]]\n"
     ]
    }
   ],
   "source": [
    "# Um outro atributo-função é o atributo T, que transpõe um array\n",
    "print(\"Transposta de c = \\n\", c.T)"
   ]
  },
  {
   "cell_type": "code",
   "execution_count": 7,
   "metadata": {},
   "outputs": [
    {
     "name": "stdout",
     "output_type": "stream",
     "text": [
      "[[0.+0.j 0.+1.j 0.+2.j]\n",
      " [0.+0.j 0.+2.j 0.+1.j]]\n",
      "[[0.+2.j 0.+1.j 0.+2.j]\n",
      " [0.+0.j 0.+2.j 0.+1.j]]\n",
      "[[0.+2.j 0.+1.j 0.+2.j]\n",
      " [0.+0.j 0.+2.j 2.+0.j]]\n"
     ]
    }
   ],
   "source": [
    "# Note que numpy raramente copia um array\n",
    "print(a)\n",
    "a.imag[0, 0] = 2\n",
    "print(a)\n",
    "a.T[2, 1] = 2\n",
    "print(a)"
   ]
  },
  {
   "cell_type": "markdown",
   "metadata": {},
   "source": [
    "## Manipulando arrays"
   ]
  },
  {
   "cell_type": "code",
   "execution_count": 8,
   "metadata": {},
   "outputs": [
    {
     "name": "stdout",
     "output_type": "stream",
     "text": [
      "Array a antes de redimensionar:\n",
      " [[0 1]\n",
      " [2 3]]\n",
      "Array a depois de redimensionar:\n",
      " [[0 1 2 3]\n",
      " [0 0 0 0]]\n"
     ]
    }
   ],
   "source": [
    "# Podemos redimensionar um array usando a função resize()\n",
    "a = np.array([[0, 1], [2, 3]])\n",
    "print(\"Array a antes de redimensionar:\\n\", a)\n",
    "a.resize(2, 4)\n",
    "print(\"Array a depois de redimensionar:\\n\", a)"
   ]
  },
  {
   "cell_type": "code",
   "execution_count": 9,
   "metadata": {},
   "outputs": [
    {
     "name": "stdout",
     "output_type": "stream",
     "text": [
      "Array b antes de redimensionar:\n",
      " [[0 1]\n",
      " [2 3]]\n",
      "Array b depois de redimensionar:\n",
      " [[0 1 0 0]\n",
      " [2 3 0 0]]\n"
     ]
    }
   ],
   "source": [
    "# Observe que a forma de ordenar os elementos de uma matriz (C-like\n",
    "# ou Fortran-like) influencia no resultado\n",
    "b = np.array([[0, 1], [2, 3]], order=\"F\")\n",
    "print(\"Array b antes de redimensionar:\\n\", b)\n",
    "b.resize(2, 4)\n",
    "print(\"Array b depois de redimensionar:\\n\", b)"
   ]
  },
  {
   "cell_type": "code",
   "execution_count": 10,
   "metadata": {},
   "outputs": [
    {
     "name": "stdout",
     "output_type": "stream",
     "text": [
      "Array c:\n",
      " [0 1 2 3 0 0 0 0]\n",
      "Array d:\n",
      " [0 1 2 3 0 0 0 0]\n"
     ]
    }
   ],
   "source": [
    "# Podemos converter um array qualquer para um array unidimensional através\n",
    "# dos métodos flatten() ou ravel(). Ambos os métodos são similares\n",
    "c = a.ravel()\n",
    "print(\"Array c:\\n\", c)\n",
    "d = a.flatten()\n",
    "print(\"Array d:\\n\", d)"
   ]
  },
  {
   "cell_type": "code",
   "execution_count": 11,
   "metadata": {},
   "outputs": [
    {
     "name": "stdout",
     "output_type": "stream",
     "text": [
      "[  0   1   2   3   0   0   0 100]\n",
      "[0 1 2 3 0 0 0 0]\n"
     ]
    }
   ],
   "source": [
    "# O método flatten(), entretanto, produz uma cópia da array, enquanto\n",
    "# ravel() não\n",
    "a[-1, -1] = 100\n",
    "print(c)\n",
    "print(d)"
   ]
  },
  {
   "cell_type": "code",
   "execution_count": 12,
   "metadata": {},
   "outputs": [
    {
     "name": "stdout",
     "output_type": "stream",
     "text": [
      "Array e:\n",
      " [  0   0   1   0   2   0   3 100]\n"
     ]
    }
   ],
   "source": [
    "# Observe que a conversão para array unidimensional pode levar em conta\n",
    "# a ordem dos elementos na memória\n",
    "e = a.ravel(order=\"F\")\n",
    "print(\"Array e:\\n\", e)"
   ]
  },
  {
   "cell_type": "code",
   "execution_count": 13,
   "metadata": {},
   "outputs": [
    {
     "name": "stdout",
     "output_type": "stream",
     "text": [
      "Formato de a =  (6,)\n",
      "Formato de b =  (6, 1)\n",
      "Formato de c =  (6, 1, 1)\n"
     ]
    }
   ],
   "source": [
    "# Podemos criar uma nova dimensão em um array já existente através\n",
    "# da constante np.newaxis\n",
    "a = np.zeros(6)\n",
    "b = a[:, np.newaxis]\n",
    "c = b[:, np.newaxis, :]\n",
    "print(\"Formato de a = \", a.shape)\n",
    "print(\"Formato de b = \", b.shape)\n",
    "print(\"Formato de c = \", c.shape)"
   ]
  },
  {
   "cell_type": "markdown",
   "metadata": {},
   "source": [
    "## Funcionalidades de IO"
   ]
  },
  {
   "cell_type": "markdown",
   "metadata": {},
   "source": [
    "Numpy oferece funcionalidades para salvar dados no sistema de arquivos e recarregá-los de volta.  Isto pode ser feito salvando no modo binário ou no modo texto.  Em modo texto, temos a flexibilidade para salvar em alguns dos formatos mais comuns, como o CSV, por exemplo.\n",
    "\n",
    "Além destas funcionalidades básicas do Numpy, a biblioteca Scipy também oferece funções para salvar e recuperar dados que são ainda mais poderosas.  Estudaremo-nas quando estudarmos Scipy."
   ]
  },
  {
   "cell_type": "code",
   "execution_count": 14,
   "metadata": {},
   "outputs": [
    {
     "name": "stdout",
     "output_type": "stream",
     "text": [
      "Array a: [[-0.11824673  1.08872615 -1.40977037 -0.07851572 -1.52813633 -0.18790181\n",
      "   0.07579842  1.50244966  0.50176295  0.97501869]\n",
      " [-0.0927194  -1.58105045 -0.43810949  0.1364422   1.21274265  0.37791728\n",
      "  -0.46480842  0.43557403 -0.29657564 -0.0118546 ]\n",
      " [ 0.69244788  0.5075959   1.48584491 -0.17823643 -0.12242632  0.64544072\n",
      "  -1.10514712  0.73256198  1.63039365  0.83587056]\n",
      " [-1.32697325  0.81474188  0.06915319 -1.95700262 -0.50775429  0.82238197\n",
      "  -0.57906073 -0.95437626 -0.39995623 -2.01419422]\n",
      " [ 0.31305307 -1.03157526 -1.40737392 -1.00019784 -1.30412396  1.51707821\n",
      "   0.2639414  -2.04989886  0.67723528 -0.90950117]]\n",
      "Array b: [[-0.11824673  1.08872615 -1.40977037 -0.07851572 -1.52813633 -0.18790181\n",
      "   0.07579842  1.50244966  0.50176295  0.97501869]\n",
      " [-0.0927194  -1.58105045 -0.43810949  0.1364422   1.21274265  0.37791728\n",
      "  -0.46480842  0.43557403 -0.29657564 -0.0118546 ]\n",
      " [ 0.69244788  0.5075959   1.48584491 -0.17823643 -0.12242632  0.64544072\n",
      "  -1.10514712  0.73256198  1.63039365  0.83587056]\n",
      " [-1.32697325  0.81474188  0.06915319 -1.95700262 -0.50775429  0.82238197\n",
      "  -0.57906073 -0.95437626 -0.39995623 -2.01419422]\n",
      " [ 0.31305307 -1.03157526 -1.40737392 -1.00019784 -1.30412396  1.51707821\n",
      "   0.2639414  -2.04989886  0.67723528 -0.90950117]]\n"
     ]
    }
   ],
   "source": [
    "# Podemos salvar em binário um array de cada vez com a função save().  Esta\n",
    "# função aceita um objeto que se comporte como um File ou uma string\n",
    "# com o nome do arquivo.  Se for uma string, o sufixo \".npy\" é \n",
    "# colocado no final do nome, se ainda não existir\n",
    "import numpy as np\n",
    "from pathlib import Path\n",
    "\n",
    "a = np.random.randn(5, 10)\n",
    "\n",
    "with Path(\"teste_save.npy\").open(\"wb\") as f:\n",
    "    np.save(f, a)\n",
    "\n",
    "with Path(\"teste_save.npy\").open(\"rb\") as f:\n",
    "    b = np.load(f)\n",
    "\n",
    "print(\"Array a:\", a)\n",
    "print(\"Array b:\", b)"
   ]
  },
  {
   "cell_type": "code",
   "execution_count": 15,
   "metadata": {},
   "outputs": [
    {
     "name": "stdout",
     "output_type": "stream",
     "text": [
      "Array a: [[-0.56515404  0.15363402 -0.34146204 -2.17501804  0.44736125  0.24285062\n",
      "   2.22390089 -0.39905195  1.08365862  0.07794863]\n",
      " [ 1.83286474 -0.58664392  0.22512543 -2.73536204 -0.19514054  0.53480582\n",
      "   1.55336359  1.59933807  0.10608287  1.08309926]\n",
      " [-0.69138497  0.16030399 -0.17148796 -0.40888685 -0.53168151 -0.35856501\n",
      "   0.40914497  0.14017612  0.14733472 -1.50673287]\n",
      " [-2.21748011 -0.18755446  0.12270697  0.61106618 -0.88893332 -2.68372506\n",
      "  -0.16957721 -0.16859575 -1.31617509 -0.8321852 ]\n",
      " [ 1.49795417 -0.42969649 -0.01944115 -0.36763768  0.33792328 -0.31297274\n",
      "   0.44953811 -2.09767886 -1.22638997  0.20839828]]\n",
      "Array b: [[-0.56515404  0.15363402 -0.34146204 -2.17501804  0.44736125  0.24285062\n",
      "   2.22390089 -0.39905195  1.08365862  0.07794863]\n",
      " [ 1.83286474 -0.58664392  0.22512543 -2.73536204 -0.19514054  0.53480582\n",
      "   1.55336359  1.59933807  0.10608287  1.08309926]\n",
      " [-0.69138497  0.16030399 -0.17148796 -0.40888685 -0.53168151 -0.35856501\n",
      "   0.40914497  0.14017612  0.14733472 -1.50673287]\n",
      " [-2.21748011 -0.18755446  0.12270697  0.61106618 -0.88893332 -2.68372506\n",
      "  -0.16957721 -0.16859575 -1.31617509 -0.8321852 ]\n",
      " [ 1.49795417 -0.42969649 -0.01944115 -0.36763768  0.33792328 -0.31297274\n",
      "   0.44953811 -2.09767886 -1.22638997  0.20839828]]\n"
     ]
    }
   ],
   "source": [
    "# Para salvar um array em texto, usamos a função savetxt().  Para\n",
    "# ler um array de um arquivo texto, use a função loadtxt()\n",
    "a = np.random.randn(5, 10)\n",
    "\n",
    "with open(\"teste_save2.dat\", \"wt\") as f:\n",
    "    np.savetxt(f, a, delimiter=\",\")\n",
    "\n",
    "with open(\"teste_save2.dat\", \"rt\") as f:\n",
    "    b = np.loadtxt(f, delimiter=\",\")\n",
    "\n",
    "print(\"Array a:\", a)\n",
    "print(\"Array b:\", b)"
   ]
  },
  {
   "cell_type": "code",
   "execution_count": 16,
   "metadata": {},
   "outputs": [
    {
     "name": "stdout",
     "output_type": "stream",
     "text": [
      "Formato de a: (1999, 2)\n",
      "Conteúdo parcial de a =  [[-0.0256     -0.00125   ]\n",
      " [-0.025575    0.00035804]\n",
      " [-0.02555    -0.00044598]\n",
      " [-0.025525   -0.00285804]\n",
      " [-0.0255      0.00035804]\n",
      " [-0.025475   -0.00205402]\n",
      " [-0.02545    -0.00125   ]\n",
      " [-0.025425    0.00196608]\n",
      " [-0.0254      0.00035804]\n",
      " [-0.025375    0.00035804]]\n"
     ]
    }
   ],
   "source": [
    "# A função loadtxt() também é conveniente para ler arquivos csv.\n",
    "# Para isso devemos usar o argumento delimiter\n",
    "with open(\"scope.csv\", \"rt\") as f:\n",
    "    a = np.loadtxt(f, delimiter=\",\", skiprows=2)\n",
    "\n",
    "print(\"Formato de a:\", a.shape)\n",
    "print(\"Conteúdo parcial de a = \", a[:10,:])"
   ]
  }
 ],
 "metadata": {
  "kernelspec": {
   "display_name": "Python 3 (ipykernel)",
   "language": "python",
   "name": "python3"
  },
  "language_info": {
   "codemirror_mode": {
    "name": "ipython",
    "version": 3
   },
   "file_extension": ".py",
   "mimetype": "text/x-python",
   "name": "python",
   "nbconvert_exporter": "python",
   "pygments_lexer": "ipython3",
   "version": "3.8.10"
  }
 },
 "nbformat": 4,
 "nbformat_minor": 1
}
