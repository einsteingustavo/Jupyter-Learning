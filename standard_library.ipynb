{
 "cells": [
  {
   "cell_type": "markdown",
   "metadata": {},
   "source": [
    "# Standard Library"
   ]
  },
  {
   "cell_type": "markdown",
   "metadata": {},
   "source": [
    "Um dos maiores pontos fortes de Python é a sua vasta coleção de módulos padrão, ou seja, incluída na linguagem.  Existem desde módulos para tratamento de texto através de expressões regulares até módulos que implementam um servidor HTTP.  Daremos uma olhada em alguns destes módulos abaixo."
   ]
  },
  {
   "cell_type": "markdown",
   "metadata": {},
   "source": [
    "#  Módulo `re`"
   ]
  },
  {
   "cell_type": "markdown",
   "metadata": {},
   "source": [
    "Este é um módulo de expressões regulares (regex) muito usadas para fazer busca e substituição em textos.  Regex são strings que contém construções que casam com uma ou mais strings, e podem ser bastante poderosas (e confusas).\n",
    "\n",
    "Os casamentos achados podem ser acessados através de objetos do tipo Match Objects."
   ]
  },
  {
   "cell_type": "code",
   "execution_count": 41,
   "metadata": {},
   "outputs": [
    {
     "name": "stdout",
     "output_type": "stream",
     "text": [
      "cent senv ment tent senv ment tend ment senv ment ient sent "
     ]
    }
   ],
   "source": [
    "import re\n",
    "\n",
    "s = \"\"\"Os seres humanos estão no centro das preocupações com o desenvolvimento sustentável. Têm\n",
    "direito a uma vida saudável e produtiva, em harmonia com a natureza.\n",
    "\n",
    "O direito ao desenvolvimento deve ser exercido de modo a permitir que sejam atendidas\n",
    "equitativamente as necessidades de desenvolvimento e de meio ambiente das gerações presentes\n",
    "e futuras.\"\"\"\n",
    "\n",
    "for m in re.finditer(\".en.\", s):\n",
    "    print(m.group(0), end=\" \")"
   ]
  },
  {
   "cell_type": "markdown",
   "metadata": {},
   "source": [
    "Expressões regulares definem vários símbolos para representar caracteres ou grupos de caracteres.  Assim, ```\\d``` representa um dígito numérico, ```\\w``` representa um dígito ou letra unicode e ```\\s``` representa um espaço em branco.  Podemos também usar uma notação, ```[]```, para especificar faixas de caracteres.\n",
    "\n",
    "Uma importante observação a respeito deste módulo é o seu forte uso de strings contendo o caractere \"\\\".  Por causa disso, a maioria das strings usadas em programas que utilizam este módulo são do tipo \"raw\" (strings com o prefixo \"r\")."
   ]
  },
  {
   "cell_type": "code",
   "execution_count": 47,
   "metadata": {},
   "outputs": [
    {
     "name": "stdout",
     "output_type": "stream",
     "text": [
      "50.740-550 50.740-550 50.740-560 50.740-580 50.740-550 50.740-560 50.740-550 50.740-570 50.740-530 50.670-420 50.740-560 50.670-420 50.740-540 50.740-570 50.740-520 50.740-550 \n",
      "\n",
      "50.740-600 50.740-600 50.740-600 50.670-901 50.670-901 50.670-901 "
     ]
    }
   ],
   "source": [
    "import re\n",
    "\n",
    "s = \"\"\"1. CAC - Av. da Arquitetura, s/n - Cidade Universitária - CEP: 50.740-550\n",
    "2. CE e CAp - Av. da Arquitetura, s/n - Cidade Universitária - CEP: 50.740-550\n",
    "3. CCB - Av. da Engenharia,s/n - Cidade Universitária - CEP: 50.740-600\n",
    "4. CCEN - Av. Jornalista Aníbal Fernandes, s/n - Cidade Universitária - CEP: 50.740-560\n",
    "5. CCS - Av. da Engenharia,s/n - Cidade Universitária - CEP: 50.740-600\n",
    "6. CCSA - Av. dos Funcionários, s/n - Cidade Universitária - CEP: 50.740-580\n",
    "7. CFCH - Av. da Arquitetura, s/n - Cidade Universitária - CEP: 50.740-550\n",
    "8. CIN - Av. Jornalista Aníbal Fernandes, s/n - Cidade Universitária - CEP: 50.740-560\n",
    "9. CTG - Av. da Arquitetura, s/n - Cidade Universitária - CEP: 50.740-550\n",
    "10. BC - Av. Reitor Joaquim Amazonas, s/n - Cidade Universitária - CEP: 50.740-570\n",
    "11. EDITORA - Av. Acadêmico Hélio Ramos, s/n - Cidade Universitária - CEP: 50.740-530\n",
    "12. HC - Av. Prof. Moraes Rêgo, s/n - Cidade Universitária - CEP: 50.670-420\n",
    "13. LIKA - Av. da Engenharia,s/n - Cidade Universitária - CEP: 50.740-600\n",
    "14. NEFD - Av. Jornalista Aníbal Fernandes, s/n - Cidade Universitária - CEP: 50.740-560\n",
    "15. NTI - Av. dos Reitores, s/n - Cidade Universitária - CEP: 50.670-901\n",
    "16. NUSP- Av. Prof. Moraes Rêgo, s/n (Prédio do Hospital das Clínicas)-Cidade Universitária-CEP: 50.670-420\n",
    "17. PCU - Av. Prof. Luiz Freire,s/n - Cidade Universitária - CEP: 50.740-540\n",
    "18. RU - Av. Reitor Joaquim Amazonas, s/n - Cidade Universitária - CEP: 50.740-570\n",
    "19. CECINE - Av. Prof. Artur de Sá, s/n - Cidade Universitária - CEP: 50.740-520\n",
    "20. CENTRO DE CONVENÇÕES - Av. dos Reitores, s/n - Cidade Universitária - CEP: 50.670-901\n",
    "21. PROGEST e DLC - Av. da Arquitetura, s/n - Cidade Universitária - CEP: 50.740-550\n",
    "22. REITORIA - Av. Prof. Moraes Rêgo, 1235 - Cidade Universitária - CEP: 50.670-901\"\"\"\n",
    "\n",
    "for m in re.finditer(r\"\\d{2}.\\d{3}-[0-5]\\d0\", s):\n",
    "    print(m.group(0), end=\" \")\n",
    "\n",
    "print(\"\\n\")\n",
    "for m in re.finditer(r\"\\d\\d.\\d\\d\\d-[^0-5]\\d\\d\", s):\n",
    "    print(m.group(0), end=\" \")"
   ]
  },
  {
   "cell_type": "markdown",
   "metadata": {},
   "source": [
    "Além disso, podemos designar repetições desses símbolos:\n",
    "* ```?``` - 0 ou 1 ocorrência do símbolo precedente\n",
    "* ```*``` - 0 ou mais ocorrências do símbolo precedente\n",
    "* ```+``` - 1 ou mais ocorrências do símbolo precedente\n",
    "* ```{n}``` - ```n``` ocorrências do símbolo precedente\n",
    "\n",
    "Por último, podemos agrupar um conjunto de símbolos com ```()```."
   ]
  },
  {
   "cell_type": "code",
   "execution_count": 28,
   "metadata": {},
   "outputs": [
    {
     "name": "stdout",
     "output_type": "stream",
     "text": [
      "no - centro\n",
      "necessidades - de\n"
     ]
    }
   ],
   "source": [
    "import re\n",
    "\n",
    "s = \"\"\"Os seres humanos estão no centro das preocupações com o desenvolvimento sustentável. Têm\n",
    "direito a uma vida saudável e produtiva, em harmonia com a natureza.\n",
    "\n",
    "O direito ao desenvolvimento deve ser exercido de modo a permitir que sejam atendidas\n",
    "equitativamente as necessidades de desenvolvimento e de meio ambiente das gerações presentes\n",
    "e futuras.\"\"\"\n",
    "\n",
    "print(\"\\n\".join(\" - \".join(g for g in m.groups()) for m in \n",
    "    re.finditer(r\"\\s(n\\w+)\\s(\\w+)\", s)))"
   ]
  },
  {
   "cell_type": "markdown",
   "metadata": {},
   "source": [
    "# Módulo `random`"
   ]
  },
  {
   "cell_type": "markdown",
   "metadata": {},
   "source": [
    "O módulo `random` fornece funções que trabalham com números pseudo-aleatórios.  Apesar de útil, não se deve usá-lo para programas em criptografia pois os algoritmos implementados não são apropriados para esta aplicação.\n",
    "\n",
    "Para várias outras aplicações, entretanto, as funções deste módulo são bastante úteis.  A principal função é a `random()` que retorna um número `float` no intervalo [0, 1).  A maioria das outras funções são construídas a partir dela.\n",
    "\n",
    "Vários tipos de distribuições aleatórias são disponibilizadas: gaussiana, uniforme, Poisson, exponencial e muitas outras."
   ]
  },
  {
   "cell_type": "code",
   "execution_count": 159,
   "metadata": {},
   "outputs": [
    {
     "name": "stdout",
     "output_type": "stream",
     "text": [
      "[14, 28, 37, 35, 34, 12, 18, 13, 25, 34]\n"
     ]
    }
   ],
   "source": [
    "import random\n",
    "\n",
    "# A funçao seed() pode ser usada para garantir a reprodução do\n",
    "# comportamento do programa\n",
    "random.seed(1)\n",
    "lst1 = [random.randrange(10, 41) for _ in range(10)]\n",
    "print(lst1)"
   ]
  },
  {
   "cell_type": "code",
   "execution_count": 176,
   "metadata": {},
   "outputs": [
    {
     "name": "stdout",
     "output_type": "stream",
     "text": [
      "[38, 33, 29, 27, 36, 29, 19, 14, 35, 13]\n",
      "33\n",
      "[38, 29, 27, 19, 14, 33, 36, 35, 13, 29]\n",
      "[33, 29, 13, 38, 27]\n",
      "[38, 29, 27, 19, 14, 33, 36, 35, 13, 29]\n"
     ]
    }
   ],
   "source": [
    "# Outras funções interessantes são a choice(), shuffle() and\n",
    "# sample()\n",
    "import random\n",
    "\n",
    "# choice() retorna um elemento aleatório dentro de uma sequência\n",
    "# É equivalente a seq[randrange(len(seq))]\n",
    "lst = [random.randrange(12, 40) for _ in range(12, 40, 3)]\n",
    "print(lst)\n",
    "print(random.choice(lst))\n",
    "\n",
    "# shuffle retorna a sequência original permutada aleátoriamente\n",
    "random.shuffle(lst)\n",
    "print(lst)\n",
    "\n",
    "# sample() retorna uma lista de k elementos escolhidos aleatoriamente\n",
    "# sem reposição da lista passada como parâmetro.  A lista original\n",
    "# não é mexida\n",
    "print(random.sample(lst, 5))\n",
    "print(lst)"
   ]
  },
  {
   "cell_type": "markdown",
   "metadata": {},
   "source": [
    "Algumas vezes queremos fazer uma escolha ponderada por pesos.  No final da [documentação](file:///usr/share/doc/python3/html/library/random.html) do módulo `random` você encontra um pequeno programa para implementar essa estratégia."
   ]
  },
  {
   "cell_type": "markdown",
   "metadata": {},
   "source": [
    "# Módulo `collections`"
   ]
  },
  {
   "cell_type": "markdown",
   "metadata": {},
   "source": [
    "Este módulo contém várias classes implementando diferentes containers com diferentes estratégias.  Assim, temos a classe `deque` (dupla fila) que implementa um container parecido com listas exceto que a inserção ou remoção de elementos em ambas as extremidades (índices 0 e -1) ocorrem com igual eficiência."
   ]
  },
  {
   "cell_type": "code",
   "execution_count": 182,
   "metadata": {},
   "outputs": [
    {
     "name": "stdout",
     "output_type": "stream",
     "text": [
      "deque([10, 0, 1, 2, 3, 4, 5, 6, 7, 8, 9, -1])\n",
      "deque([8, 9, -1, 10, 0, 1, 2, 3, 4, 5, 6, 7])\n",
      "deque([-2, -3, -4, -5, 8, 9, -1, 10, 0, 1, 2, 3, 4, 5, 6, 7])\n"
     ]
    }
   ],
   "source": [
    "from collections import deque\n",
    "\n",
    "s = \"Tudo o que um sonho precisa para ser realizado é alguém que acredite que ele possa ser realizado.\"\n",
    "fifo = deque(range(10))\n",
    "fifo.append(-1)\n",
    "fifo.appendleft(10)\n",
    "print(fifo)\n",
    "fifo.rotate(3)\n",
    "print(fifo)\n",
    "fifo.extendleft(range(-5, -1))\n",
    "print(fifo)"
   ]
  },
  {
   "cell_type": "markdown",
   "metadata": {},
   "source": [
    "Outra classe útil é a `Counter`, que implementa um dicionário onde o valor associado a uma chave é quantas vezes a chave apareceu na inicialização ou atualização do objeto do tipo `Counter`."
   ]
  },
  {
   "cell_type": "code",
   "execution_count": 183,
   "metadata": {},
   "outputs": [
    {
     "name": "stdout",
     "output_type": "stream",
     "text": [
      "[('e', 175), ('o', 148), ('s', 143), ('a', 137), ('i', 93), ('r', 91), ('d', 78), ('t', 75), ('n', 66), ('u', 51)]\n",
      "[('e', 184), ('o', 152), ('s', 146), ('a', 143), ('i', 97), ('r', 95), ('d', 80), ('t', 76), ('n', 70), ('u', 54)]\n"
     ]
    }
   ],
   "source": [
    "from collections import Counter\n",
    "\n",
    "s = \"\"\"Consideramos estas verdades como evidentes por si mesmas, que \n",
    "todos os homens são criados iguais, dotados pelo Criador de certos \n",
    "direitos inalienáveis, que entre estes estão a vida, a liberdade e\n",
    "a procura da felicidade. Que a fim de assegurar esses direitos,\n",
    "governos são instituídos entre os homens, derivando seus justos\n",
    "poderes do consentimento dos governados; que, sempre que qualquer\n",
    "forma de governo se torne destrutiva de tais fins, cabe ao povo o\n",
    "direito de alterá-la ou aboli-la e instituir novo governo, baseando-o\n",
    "em tais princípios e organizando-lhe os poderes pela forma que lhe\n",
    "pareça mais conveniente para realizar-lhe a segurança e a felicidade.\n",
    "Na realidade, a prudência recomenda que não se mudem os governos\n",
    "instituídos há muito tempo por motivos leves e passageiros;\n",
    "e, assim sendo, toda experiência tem mostrado que os homens estão\n",
    "mais dispostos a sofrer, enquanto os males são suportáveis, do que\n",
    "a se desagravar, abolindo as formas a que se acostumaram. Mas quando\n",
    "uma longa série de abusos e usurpações, perseguindo invariavelmente o\n",
    "mesmo objecto, indica o desígnio de reduzi-los ao despotismo absoluto,\n",
    "assistem-lhes o direito, bem como o dever, de abolir tais governos e\n",
    "instituir novos Guardiães para sua futura segurança. Tal tem sido o\n",
    "sofrimento paciente destas colónias e tal agora a necessidade que as\n",
    "força a alterar os sistemas anteriores de governo. A história do\n",
    "atual Rei da Grã-Bretanha compõe-se de repetidas injúrias e usurpações,\n",
    "tendo todos por objectivo direto o estabelecimento da tirania absoluta\n",
    "sobre estes Estados. Para prová-lo, permitam-nos submeter os fatos a\n",
    "um mundo cândido.\"\"\".lower().translate(\"\".maketrans(\"\", \"\", \",;. \"))\n",
    "\n",
    "s2 = \"\"\"Nenhuma noite, por mais escura que seja. pode impedir o\n",
    "amanhecer.\"\"\".lower().translate(\"\".maketrans(\"\", \"\", \",;. \"))\n",
    "\n",
    "c = Counter(s)\n",
    "print(c.most_common(10))\n",
    "c.update(Counter(s2))\n",
    "print(c.most_common(10))"
   ]
  },
  {
   "cell_type": "markdown",
   "metadata": {},
   "source": [
    "Por último, a classe `defaultdict` pode ser útil para simplificar a lógica de nosso programa nos casos em que, se uma chave não está presente, podemos partir de um valor-padrão."
   ]
  },
  {
   "cell_type": "code",
   "execution_count": 33,
   "metadata": {},
   "outputs": [
    {
     "name": "stdout",
     "output_type": "stream",
     "text": [
      "a: ['a', 'aboli-la', 'abolindo', 'abolir', 'absoluta', 'absoluto', 'abusos', 'acostumaram', 'agora', 'alterar', 'alterá-la', 'anteriores', 'ao', 'as', 'assegurar', 'assim', 'assistem-lhes', 'atual']\n",
      "b: ['baseando-o', 'bem']\n",
      "c: ['cabe', 'certos', 'colónias', 'como', 'compõe-se', 'consentimento', 'consideramos', 'conveniente', 'criador', 'criados', 'cândido']\n",
      "d: ['da', 'de', 'derivando', 'desagravar', 'despotismo', 'destas', 'destrutiva', 'desígnio', 'dever', 'direito', 'direitos', 'direto', 'dispostos', 'do', 'dos', 'dotados']\n",
      "e: ['e', 'em', 'enquanto', 'entre', 'esses', 'estabelecimento', 'estados', 'estas', 'estes', 'estão', 'evidentes', 'experiência']\n",
      "f: ['fatos', 'felicidade', 'fim', 'fins', 'forma', 'formas', 'força', 'futura']\n",
      "g: ['governados', 'governo', 'governos', 'grã-bretanha', 'guardiães']\n",
      "h: ['história', 'homens', 'há']\n",
      "i: ['iguais', 'inalienáveis', 'indica', 'injúrias', 'instituir', 'instituídos', 'invariavelmente']\n",
      "j: ['justos']\n",
      "l: ['leves', 'lhe', 'liberdade', 'longa']\n",
      "m: ['mais', 'males', 'mas', 'mesmas', 'mesmo', 'mostrado', 'motivos', 'mudem', 'muito', 'mundo']\n",
      "n: ['na', 'necessidade', 'novo', 'novos', 'não']\n",
      "o: ['o', 'objectivo', 'objecto', 'organizando-lhe', 'os', 'ou']\n",
      "p: ['paciente', 'para', 'pareça', 'passageiros', 'pela', 'pelo', 'permitam-nos', 'perseguindo', 'poderes', 'por', 'povo', 'princípios', 'procura', 'prová-lo', 'prudência']\n",
      "q: ['qualquer', 'quando', 'que']\n",
      "r: ['realidade', 'realizar-lhe', 'recomenda', 'reduzi-los', 'rei', 'repetidas']\n",
      "s: ['se', 'segurança', 'sempre', 'sendo', 'seus', 'si', 'sido', 'sistemas', 'sobre', 'sofrer', 'sofrimento', 'sua', 'submeter', 'suportáveis', 'são', 'série']\n",
      "t: ['tais', 'tal', 'tem', 'tempo', 'tendo', 'tirania', 'toda', 'todos', 'torne']\n",
      "u: ['um', 'uma', 'usurpações']\n",
      "v: ['verdades', 'vida']\n"
     ]
    }
   ],
   "source": [
    "from collections import defaultdict\n",
    "\n",
    "s = \"\"\"Consideramos estas verdades como evidentes por si mesmas, que \n",
    "todos os homens são criados iguais, dotados pelo Criador de certos \n",
    "direitos inalienáveis, que entre estes estão a vida, a liberdade e\n",
    "a procura da felicidade. Que a fim de assegurar esses direitos,\n",
    "governos são instituídos entre os homens, derivando seus justos\n",
    "poderes do consentimento dos governados; que, sempre que qualquer\n",
    "forma de governo se torne destrutiva de tais fins, cabe ao povo o\n",
    "direito de alterá-la ou aboli-la e instituir novo governo, baseando-o\n",
    "em tais princípios e organizando-lhe os poderes pela forma que lhe\n",
    "pareça mais conveniente para realizar-lhe a segurança e a felicidade.\n",
    "Na realidade, a prudência recomenda que não se mudem os governos\n",
    "instituídos há muito tempo por motivos leves e passageiros;\n",
    "e, assim sendo, toda experiência tem mostrado que os homens estão\n",
    "mais dispostos a sofrer, enquanto os males são suportáveis, do que\n",
    "a se desagravar, abolindo as formas a que se acostumaram. Mas quando\n",
    "uma longa série de abusos e usurpações, perseguindo invariavelmente o\n",
    "mesmo objecto, indica o desígnio de reduzi-los ao despotismo absoluto,\n",
    "assistem-lhes o direito, bem como o dever, de abolir tais governos e\n",
    "instituir novos Guardiães para sua futura segurança. Tal tem sido o\n",
    "sofrimento paciente destas colónias e tal agora a necessidade que as\n",
    "força a alterar os sistemas anteriores de governo. A história do\n",
    "atual Rei da Grã-Bretanha compõe-se de repetidas injúrias e usurpações,\n",
    "tendo todos por objectivo direto o estabelecimento da tirania absoluta\n",
    "sobre estes Estados. Para prová-lo, permitam-nos submeter os fatos a\n",
    "um mundo cândido.\"\"\".lower().translate(\"\".maketrans(\"\", \"\", \",;.\"))\n",
    "\n",
    "d = defaultdict(set)\n",
    "for word in s.split():\n",
    "    word = word.lower()\n",
    "    d[word[0]].update([word])\n",
    "print(\"\\n\".join(\"{}: {}\".format(letter, sorted(list(words))) for letter, words in sorted(d.items())))"
   ]
  },
  {
   "cell_type": "markdown",
   "metadata": {},
   "source": [
    "# Módulo `pathlib`"
   ]
  },
  {
   "cell_type": "markdown",
   "metadata": {},
   "source": [
    "Este módulo oferece classes que encapsulam o conceito de *paths*, ou os caminhos de diretório e arquivos dentro de um sistema de arquivos.  Se o caminho apontar para um arquivo, podemos obter suas informações, tais como data de criação e permissão de uso, ou abri-lo para depois lê-lo ou nele escrever.\n",
    "\n",
    "Se o caminho apontar para um diretório, além de obter informações sobre o diretório, podemos obter a lista de arquivos contidos no diretório."
   ]
  },
  {
   "cell_type": "code",
   "execution_count": 34,
   "metadata": {},
   "outputs": [
    {
     "name": "stdout",
     "output_type": "stream",
     "text": [
      "import re\n",
      "\n",
      "s = \"\"\"Os seres humanos estão no centro das preocupações com o desenvolvimento sustentável. Têm\n",
      "direito a uma vida saudável e produtiva, em harmonia com a natureza.\n",
      "\n",
      "O direito ao desenvolvimento deve ser exercido de modo a permitir que sejam atendidas\n",
      "equitativamente as necessidades de desenvolvimento e de meio ambiente das gerações presentes\n",
      "e futuras.\"\"\"\n",
      "\n",
      "for m in re.finditer(\".en.\", s):\n",
      "    print(m.group(0), end=\" \")\n",
      "\n",
      "=====\n",
      "\n",
      "import re\n",
      "\n",
      "s = \"\"\"1. CAC - Av. da Arquitetura, s/n - Cidade Universitária - CEP: 50.740-550\n",
      "2. CE e CAp - Av. da Arquitetura, s/n - Cidade Universitária - CEP: 50.740-550\n",
      "3. CCB - Av. da Engenharia,s/n - Cidade Universitária - CEP: 50.740-600\n",
      "4. CCEN - Av. Jornalista Aníbal Fernandes, s/n - Cidade Universitária - CEP: 50.740-560\n",
      "5. CCS - Av. da Engenharia,s/n - Cidade Universitária - CEP: 50.740-600\n",
      "6. CCSA - Av. dos Funcionários, s/n - Cidade Universitária - CEP: 50.740-580\n",
      "7. CFCH - Av. da Arquitetura, s/n - Cidade Universitária - CEP: 50.740-550\n",
      "8. CIN - Av. Jornalista Aníbal Fernandes, s/n - Cidade Universitária - CEP: 50.740-560\n",
      "9. CTG - Av. da Arquitetura, s/n - Cidade Universitária - CEP: 50.740-550\n",
      "10. BC - Av. Reitor Joaquim Amazonas, s/n - Cidade Universitária - CEP: 50.740-570\n",
      "11. EDITORA - Av. Acadêmico Hélio Ramos, s/n - Cidade Universitária - CEP: 50.740-530\n",
      "12. HC - Av. Prof. Moraes Rêgo, s/n - Cidade Universitária - CEP: 50.670-420\n",
      "13. LIKA - Av. da Engenharia,s/n - Cidade Universitária - CEP: 50.740-600\n",
      "14. NEFD - Av. Jornalista Aníbal Fernandes, s/n - Cidade Universitária - CEP: 50.740-560\n",
      "15. NTI - Av. dos Reitores, s/n - Cidade Universitária - CEP: 50.670-901\n",
      "16. NUSP- Av. Prof. Moraes Rêgo, s/n (Prédio do Hospital das Clínicas)-Cidade Universitária-CEP: 50.670-420\n",
      "17. PCU - Av. Prof. Luiz Freire,s/n - Cidade Universitária - CEP: 50.740-540\n",
      "18. RU - Av. Reitor Joaquim Amazonas, s/n - Cidade Universitária - CEP: 50.740-570\n",
      "19. CECINE - Av. Prof. Artur de Sá, s/n - Cidade Universitária - CEP: 50.740-520\n",
      "20. CENTRO DE CONVENÇÕES - Av. dos Reitores, s/n - Cidade Universitária - CEP: 50.670-901\n",
      "21. PROGEST e DLC - Av. da Arquitetura, s/n - Cidade Universitária - CEP: 50.740-550\n",
      "22. REITORIA - Av. Prof. Moraes Rêgo, 1235 - Cidade Universitária - CEP: 50.670-901\"\"\"\n",
      "\n",
      "for m in re.finditer(r\"\\d\\d.\\d\\d\\d-[0-5]\\d0\", s):\n",
      "    print(m.group(0), end=\" \")\n",
      "\n",
      "print()\n",
      "for m in re.finditer(r\"\\d\\d.\\d\\d\\d-[^0-5]\\d\\d\", s):\n",
      "    print(m.group(0), end=\" \")\n",
      "\n",
      "=====\n",
      "\n",
      "import re\n",
      "\n",
      "s = \"\"\"Os seres humanos estão no centro das preocupações com o desenvolvimento sustentável. Têm\n",
      "direito a uma vida saudável e produtiva, em harmonia com a natureza.\n",
      "\n",
      "O direito ao desenvolvimento deve ser exercido de modo a permitir que sejam atendidas\n",
      "equitativamente as necessidades de desenvolvimento e de meio ambiente das gerações presentes\n",
      "e futuras.\"\"\"\n",
      "\n",
      "print(\"\\n\".join(\" - \".join(g for g in m.groups()) for m in \n",
      "    re.finditer(r\"\\s(n\\w+)\\s(\\w+)\", s)))\n"
     ]
    }
   ],
   "source": [
    "# Lendo um arquivo\n",
    "from pathlib import Path\n",
    "import json\n",
    "\n",
    "with Path(\"./standard_library.ipynb\").open(\"rt\") as f:\n",
    "    notebook = json.load(f)\n",
    "programs = [d[\"source\"] for d in notebook[\"cells\"] if d[\"cell_type\"] == \"code\"]\n",
    "\n",
    "print(\"\\n\\n=====\\n\\n\".join(\"\".join(lines) for lines in programs[:3]))"
   ]
  },
  {
   "cell_type": "code",
   "execution_count": 35,
   "metadata": {},
   "outputs": [
    {
     "name": "stdout",
     "output_type": "stream",
     "text": [
      "os.stat_result(st_mode=33204, st_ino=812257, st_dev=2067, st_nlink=1, st_uid=1000, st_gid=1000, st_size=32132, st_atime=1660839458, st_mtime=1660839441, st_ctime=1660839441)\n"
     ]
    }
   ],
   "source": [
    "# Verificando que um arquivo existe e obtendo suas informações\n",
    "from pathlib import Path\n",
    "\n",
    "p = Path(\"./standard_library.ipynb\")\n",
    "if p.exists():\n",
    "    print(p.stat())"
   ]
  },
  {
   "cell_type": "code",
   "execution_count": 189,
   "metadata": {
    "scrolled": false
   },
   "outputs": [
    {
     "name": "stdout",
     "output_type": "stream",
     "text": [
      "/usr/share/doc/python3-problem-report\n",
      "/usr/share/doc/python3-send2trash\n",
      "/usr/share/doc/python3-gdbm\n",
      "/usr/share/doc/python3-backcall\n",
      "/usr/share/doc/libpython3.8\n",
      "/usr/share/doc/python3-psutil\n",
      "/usr/share/doc/python3-defer\n",
      "/usr/share/doc/python3-jedi\n",
      "/usr/share/doc/python3-dateutil\n",
      "/usr/share/doc/python3-ipython-genutils\n",
      "/usr/share/doc/python3-apt\n",
      "/usr/share/doc/python3-tdb\n",
      "/usr/share/doc/python3-apport\n",
      "/usr/share/doc/python3-xdg\n",
      "/usr/share/doc/python3-icu\n",
      "/usr/share/doc/python3-wadllib\n",
      "/usr/share/doc/python3-reportlab-accel\n",
      "/usr/share/doc/python3-pip\n",
      "/usr/share/doc/python3-prompt-toolkit\n",
      "/usr/share/doc/python3-xlib\n",
      "/usr/share/doc/python3-chardet\n",
      "/usr/share/doc/libpython3.8-dev\n",
      "/usr/share/doc/python3-systemd\n",
      "/usr/share/doc/python3-markupsafe\n",
      "/usr/share/doc/python3-requests-unixsocket\n",
      "/usr/share/doc/python3-louis\n",
      "/usr/share/doc/python3-mako\n",
      "/usr/share/doc/python3-httplib2\n",
      "/usr/share/doc/python3-samba\n",
      "/usr/share/doc/python3-ipywidgets\n",
      "/usr/share/doc/python3-dbus\n",
      "/usr/share/doc/python3\n",
      "/usr/share/doc/python3-defusedxml\n",
      "/usr/share/doc/python3-jsonschema\n",
      "/usr/share/doc/python3-imdbpy\n",
      "/usr/share/doc/python3-pkg-resources\n",
      "/usr/share/doc/python3-cups\n",
      "/usr/share/doc/python3-talloc\n",
      "/usr/share/doc/python3-pandocfilters\n",
      "/usr/share/doc/python3-urllib3\n",
      "/usr/share/doc/libpython3-dev\n",
      "/usr/share/doc/python3-entrypoints\n",
      "/usr/share/doc/python3-commandnotfound\n",
      "/usr/share/doc/python3-soupsieve\n",
      "/usr/share/doc/python3-dev\n",
      "/usr/share/doc/python3-notebook\n",
      "/usr/share/doc/python3-protobuf\n",
      "/usr/share/doc/python3-ipykernel\n",
      "/usr/share/doc/python3-magic\n",
      "/usr/share/doc/python3-oauthlib\n",
      "/usr/share/doc/libpython3-stdlib\n",
      "/usr/share/doc/python3-cairo\n",
      "/usr/share/doc/python3-ldb\n",
      "/usr/share/doc/python3-requests\n",
      "/usr/share/doc/python3-setproctitle\n",
      "/usr/share/doc/python3-zipp\n",
      "/usr/share/doc/python3-gi-cairo\n",
      "/usr/share/doc/python3-blinker\n",
      "/usr/share/doc/python3-xkit\n",
      "/usr/share/doc/python3-nbconvert\n",
      "/usr/share/doc/python3-speechd\n",
      "/usr/share/doc/python3-lazr.uri\n",
      "/usr/share/doc/python3-xapp\n",
      "/usr/share/doc/python3-cffi-backend\n",
      "/usr/share/doc/python3-tornado\n",
      "/usr/share/doc/python3-keyring\n",
      "/usr/share/doc/python3-setuptools\n",
      "/usr/share/doc/python3-launchpadlib\n",
      "/usr/share/doc/python3-aptdaemon.gtk3widgets\n",
      "/usr/share/doc/python3-rfc3339\n",
      "/usr/share/doc/python3-tz\n",
      "/usr/share/doc/python3-tinycss2\n",
      "/usr/share/doc/python3-ptyprocess\n",
      "/usr/share/doc/python3-crypto\n",
      "/usr/share/doc/python3-jwt\n",
      "/usr/share/doc/python3-testpath\n",
      "/usr/share/doc/python3-attr\n",
      "/usr/share/doc/python3-more-itertools\n",
      "/usr/share/doc/python3-parso\n",
      "/usr/share/doc/python3-lib2to3\n",
      "/usr/share/doc/python3-pycurl\n",
      "/usr/share/doc/python3-bs4\n",
      "/usr/share/doc/python3-pyparsing\n",
      "/usr/share/doc/python3-webencodings\n",
      "/usr/share/doc/python3-gi\n",
      "/usr/share/doc/python3-ipython\n",
      "/usr/share/doc/python3-uno\n",
      "/usr/share/doc/python3-nbformat\n",
      "/usr/share/doc/python3-aptdaemon\n",
      "/usr/share/doc/python3-yaml\n",
      "/usr/share/doc/python3-secretstorage\n",
      "/usr/share/doc/python3-tldextract\n",
      "/usr/share/doc/python3-widgetsnbextension\n",
      "/usr/share/doc/python3-pygments\n",
      "/usr/share/doc/libpython3.8-stdlib\n",
      "/usr/share/doc/python3-minimal\n",
      "/usr/share/doc/python3-pil\n",
      "/usr/share/doc/python3-cryptography\n",
      "/usr/share/doc/python3-pexpect\n",
      "/usr/share/doc/python3-six\n",
      "/usr/share/doc/python3-xlrd\n",
      "/usr/share/doc/python3-zmq\n",
      "/usr/share/doc/python3-packaging\n",
      "/usr/share/doc/python3-nacl\n",
      "/usr/share/doc/python3-reportlab\n",
      "/usr/share/doc/python3-lazr.restfulclient\n",
      "/usr/share/doc/python3-grpcio\n",
      "/usr/share/doc/python3.8\n",
      "/usr/share/doc/python3-decorator\n",
      "/usr/share/doc/python3-importlib-metadata\n",
      "/usr/share/doc/python3-pyrsistent\n",
      "/usr/share/doc/python3-pyinotify\n",
      "/usr/share/doc/python3-html5lib\n",
      "/usr/share/doc/python3-netifaces\n",
      "/usr/share/doc/python3-configobj\n",
      "/usr/share/doc/libpython3.8-minimal\n",
      "/usr/share/doc/python3-certifi\n",
      "/usr/share/doc/python3-mistune\n",
      "/usr/share/doc/python3-jupyter-core\n",
      "/usr/share/doc/python3-macaroonbakery\n",
      "/usr/share/doc/python3-simplejson\n",
      "/usr/share/doc/python3-pam\n",
      "/usr/share/doc/python3-prometheus-client\n",
      "/usr/share/doc/python3-pickleshare\n",
      "/usr/share/doc/python3-brlapi\n",
      "/usr/share/doc/python3-jinja2\n",
      "/usr/share/doc/python3-colorama\n",
      "/usr/share/doc/python3-traitlets\n",
      "/usr/share/doc/python3-pymacaroons\n",
      "/usr/share/doc/python3-wcwidth\n",
      "/usr/share/doc/python3-distro\n",
      "/usr/share/doc/python3-distutils\n",
      "/usr/share/doc/python3-pyatspi\n",
      "/usr/share/doc/python3.8-dev\n",
      "/usr/share/doc/python3-cupshelpers\n",
      "/usr/share/doc/python3-terminado\n",
      "/usr/share/doc/python3-requests-file\n",
      "/usr/share/doc/python3-wheel\n",
      "/usr/share/doc/python3-ifaddr\n",
      "/usr/share/doc/python3.8-minimal\n",
      "/usr/share/doc/python3-bleach\n",
      "/usr/share/doc/python3-debian\n",
      "/usr/share/doc/python3-idna\n",
      "/usr/share/doc/python3-unidecode\n",
      "/usr/share/doc/python3-parted\n",
      "/usr/share/doc/python3-netaddr\n",
      "/usr/share/doc/python3-click\n",
      "/usr/share/doc/python3-jupyter-client\n"
     ]
    }
   ],
   "source": [
    "# Listando os arquivos de um diretório\n",
    "from pathlib import Path\n",
    "\n",
    "# Esta não é a melhor maneira de se filtrar nomoes de arquivos\n",
    "p = Path(\"/usr/share/doc\")\n",
    "if p.is_dir():\n",
    "    print(\"\\n\".join(str(f) for f in p.iterdir() if \"python3\" in f.name))"
   ]
  },
  {
   "cell_type": "markdown",
   "metadata": {},
   "source": [
    "### Exercício"
   ]
  },
  {
   "cell_type": "markdown",
   "metadata": {},
   "source": [
    "Crie e imprima uma lista com os nomes dos arquivos do diretório atual que tem tamanho menor do 1024 bytes."
   ]
  },
  {
   "cell_type": "markdown",
   "metadata": {},
   "source": [
    "## Partes de um caminho"
   ]
  },
  {
   "cell_type": "markdown",
   "metadata": {},
   "source": [
    "Um caminho pode ser dividido em uma ou mais partes, todas opcionais (embora pelo menos uma deve estar presente): a raiz, os ancestrais (ou pais), e a parte final.  A primeira parte pode ser obtida pelo atributo `root`, a segunda através do atributo `parents` e a terceira através do atributo `name`.  Todas as partes podem ser obtidas em uma tupla através do atributo `parts`."
   ]
  },
  {
   "cell_type": "code",
   "execution_count": 185,
   "metadata": {},
   "outputs": [
    {
     "name": "stdout",
     "output_type": "stream",
     "text": [
      "Diretório atual:  /home/einstein/Downloads\n",
      "Partes do caminho:  ('/', 'home', 'einstein', 'Downloads', 'standard_library.ipynb')\n"
     ]
    }
   ],
   "source": [
    "# Trabalhando com as partes de um caminho\n",
    "from pathlib import Path\n",
    "\n",
    "p = Path.cwd()\n",
    "print(\"Diretório atual: \", p)\n",
    "a = p / Path(\"standard_library.ipynb\")\n",
    "print(\"Partes do caminho: \", a.parts)"
   ]
  },
  {
   "cell_type": "code",
   "execution_count": 186,
   "metadata": {},
   "outputs": [
    {
     "name": "stdout",
     "output_type": "stream",
     "text": [
      "Lista dos pais do caminho:\n",
      "    /home/einstein/Downloads\n",
      "    /home/einstein\n",
      "    /home\n",
      "    /\n",
      "Pai imediato do caminho: /home/einstein/Downloads\n"
     ]
    }
   ],
   "source": [
    "# Obtendo os pais de um caminho\n",
    "from itertools import chain\n",
    "\n",
    "prefixo = \"\\n    \"\n",
    "header = \"Lista dos pais do caminho:\"\n",
    "print(prefixo.join(str(parent) for parent in chain([header], a.parents)))\n",
    "\n",
    "# Você pode obter o pai imediato com o atributo parent\n",
    "print(\"Pai imediato do caminho:\", str(a.parent))"
   ]
  },
  {
   "cell_type": "markdown",
   "metadata": {},
   "source": [
    "### Outras funcionalidades"
   ]
  },
  {
   "cell_type": "code",
   "execution_count": 191,
   "metadata": {},
   "outputs": [
    {
     "name": "stdout",
     "output_type": "stream",
     "text": [
      "/usr/share/doc/python3-problem-report\n",
      "/usr/share/doc/python3-send2trash\n",
      "/usr/share/doc/python3-gdbm\n",
      "/usr/share/doc/python3-backcall\n",
      "/usr/share/doc/python3-psutil\n",
      "/usr/share/doc/python3-defer\n",
      "/usr/share/doc/python3-jedi\n",
      "/usr/share/doc/python3-dateutil\n",
      "/usr/share/doc/python3-ipython-genutils\n",
      "/usr/share/doc/python3-apt\n",
      "/usr/share/doc/python3-tdb\n",
      "/usr/share/doc/python3-apport\n",
      "/usr/share/doc/python-tinycss2-common\n",
      "/usr/share/doc/python3-xdg\n",
      "/usr/share/doc/python3-icu\n",
      "/usr/share/doc/python3-wadllib\n",
      "/usr/share/doc/python3-reportlab-accel\n",
      "/usr/share/doc/python3-pip\n",
      "/usr/share/doc/python3-prompt-toolkit\n",
      "/usr/share/doc/python3-xlib\n",
      "/usr/share/doc/python3-chardet\n",
      "/usr/share/doc/python3-systemd\n",
      "/usr/share/doc/python3-markupsafe\n",
      "/usr/share/doc/python3-requests-unixsocket\n",
      "/usr/share/doc/python3-louis\n",
      "/usr/share/doc/python3-mako\n",
      "/usr/share/doc/python3-httplib2\n",
      "/usr/share/doc/python3-samba\n",
      "/usr/share/doc/python3-ipywidgets\n",
      "/usr/share/doc/python3-dbus\n",
      "/usr/share/doc/python3\n",
      "/usr/share/doc/python3-defusedxml\n",
      "/usr/share/doc/python3-jsonschema\n",
      "/usr/share/doc/python3-imdbpy\n",
      "/usr/share/doc/python3-pkg-resources\n",
      "/usr/share/doc/python3-cups\n",
      "/usr/share/doc/python3-talloc\n",
      "/usr/share/doc/python3-pandocfilters\n",
      "/usr/share/doc/python3-urllib3\n",
      "/usr/share/doc/python3-entrypoints\n",
      "/usr/share/doc/python3-commandnotfound\n",
      "/usr/share/doc/python3-soupsieve\n",
      "/usr/share/doc/python3-dev\n",
      "/usr/share/doc/python3-notebook\n",
      "/usr/share/doc/python3-protobuf\n",
      "/usr/share/doc/python3-ipykernel\n",
      "/usr/share/doc/python3-magic\n",
      "/usr/share/doc/python3-oauthlib\n",
      "/usr/share/doc/python3-cairo\n",
      "/usr/share/doc/python3-ldb\n",
      "/usr/share/doc/python3-requests\n",
      "/usr/share/doc/python3-setproctitle\n",
      "/usr/share/doc/python3-zipp\n",
      "/usr/share/doc/python3-gi-cairo\n",
      "/usr/share/doc/python3-blinker\n",
      "/usr/share/doc/python3-xkit\n",
      "/usr/share/doc/python3-nbconvert\n",
      "/usr/share/doc/python3-speechd\n",
      "/usr/share/doc/python3-lazr.uri\n",
      "/usr/share/doc/python3-xapp\n",
      "/usr/share/doc/python3-cffi-backend\n",
      "/usr/share/doc/python3-tornado\n",
      "/usr/share/doc/python3-keyring\n",
      "/usr/share/doc/python3-setuptools\n",
      "/usr/share/doc/python3-launchpadlib\n",
      "/usr/share/doc/python3-aptdaemon.gtk3widgets\n",
      "/usr/share/doc/python3-rfc3339\n",
      "/usr/share/doc/python3-tz\n",
      "/usr/share/doc/python3-tinycss2\n",
      "/usr/share/doc/python3-ptyprocess\n",
      "/usr/share/doc/python3-crypto\n",
      "/usr/share/doc/python3-jwt\n",
      "/usr/share/doc/python3-testpath\n",
      "/usr/share/doc/python3-attr\n",
      "/usr/share/doc/python3-more-itertools\n",
      "/usr/share/doc/python3-parso\n",
      "/usr/share/doc/python3-lib2to3\n",
      "/usr/share/doc/python3-pycurl\n",
      "/usr/share/doc/python3-bs4\n",
      "/usr/share/doc/python3-pyparsing\n",
      "/usr/share/doc/python3-webencodings\n",
      "/usr/share/doc/python3-gi\n",
      "/usr/share/doc/python3-ipython\n",
      "/usr/share/doc/python3-uno\n",
      "/usr/share/doc/python3-nbformat\n",
      "/usr/share/doc/python3-aptdaemon\n",
      "/usr/share/doc/python3-yaml\n",
      "/usr/share/doc/python3-secretstorage\n",
      "/usr/share/doc/python3-tldextract\n",
      "/usr/share/doc/python3-widgetsnbextension\n",
      "/usr/share/doc/python3-pygments\n",
      "/usr/share/doc/python3-minimal\n",
      "/usr/share/doc/python3-pil\n",
      "/usr/share/doc/python3-cryptography\n",
      "/usr/share/doc/python3-pexpect\n",
      "/usr/share/doc/python3-six\n",
      "/usr/share/doc/python3-xlrd\n",
      "/usr/share/doc/python-apt-common\n",
      "/usr/share/doc/python3-zmq\n",
      "/usr/share/doc/python3-packaging\n",
      "/usr/share/doc/python3-nacl\n",
      "/usr/share/doc/python3-reportlab\n",
      "/usr/share/doc/python3-lazr.restfulclient\n",
      "/usr/share/doc/python3-grpcio\n",
      "/usr/share/doc/python-pip-whl\n",
      "/usr/share/doc/python3.8\n",
      "/usr/share/doc/python3-decorator\n",
      "/usr/share/doc/python3-importlib-metadata\n",
      "/usr/share/doc/python3-pyrsistent\n",
      "/usr/share/doc/python3-pyinotify\n",
      "/usr/share/doc/python3-html5lib\n",
      "/usr/share/doc/python3-netifaces\n",
      "/usr/share/doc/python3-configobj\n",
      "/usr/share/doc/python3-certifi\n",
      "/usr/share/doc/python-nemo\n",
      "/usr/share/doc/python3-mistune\n",
      "/usr/share/doc/python3-jupyter-core\n",
      "/usr/share/doc/python3-macaroonbakery\n",
      "/usr/share/doc/python3-simplejson\n",
      "/usr/share/doc/python3-pam\n",
      "/usr/share/doc/python3-prometheus-client\n",
      "/usr/share/doc/python3-pickleshare\n",
      "/usr/share/doc/python3-brlapi\n",
      "/usr/share/doc/python3-jinja2\n",
      "/usr/share/doc/python3-colorama\n",
      "/usr/share/doc/python3-traitlets\n",
      "/usr/share/doc/python3-pymacaroons\n",
      "/usr/share/doc/python3-wcwidth\n",
      "/usr/share/doc/python-colorama\n",
      "/usr/share/doc/python3-distro\n",
      "/usr/share/doc/python3-distutils\n",
      "/usr/share/doc/python3-pyatspi\n",
      "/usr/share/doc/python3.8-dev\n",
      "/usr/share/doc/python3-cupshelpers\n",
      "/usr/share/doc/python3-terminado\n",
      "/usr/share/doc/python3-requests-file\n",
      "/usr/share/doc/python3-wheel\n",
      "/usr/share/doc/python3-ifaddr\n",
      "/usr/share/doc/python3.8-minimal\n",
      "/usr/share/doc/python3-bleach\n",
      "/usr/share/doc/python3-debian\n",
      "/usr/share/doc/python3-idna\n",
      "/usr/share/doc/python3-unidecode\n",
      "/usr/share/doc/python3-parted\n",
      "/usr/share/doc/python3-netaddr\n",
      "/usr/share/doc/python3-click\n",
      "/usr/share/doc/python3-jupyter-client\n"
     ]
    }
   ],
   "source": [
    "# Podemos trabalhar com grupos de arquivos com nomes similares\n",
    "# usando o método glob() com notação de wildchars\n",
    "import pathlib\n",
    "\n",
    "p = Path(\"/usr/share/doc\")\n",
    "print(\"\\n\".join(str(f) for f in p.glob(\"python*\")))"
   ]
  },
  {
   "cell_type": "code",
   "execution_count": 193,
   "metadata": {},
   "outputs": [
    {
     "name": "stdout",
     "output_type": "stream",
     "text": [
      "/home/einstein/Downloads/rockpaperscissors.py\n"
     ]
    }
   ],
   "source": [
    "# O método glob() pode usar um wildchar recursivo\n",
    "import pathlib\n",
    "\n",
    "p = Path(\"/home/einstein/Downloads\")\n",
    "print(\"\\n\".join(str(f) for f in p.glob(\"**/*.py\")))"
   ]
  }
 ],
 "metadata": {
  "kernelspec": {
   "display_name": "Python 3 (ipykernel)",
   "language": "python",
   "name": "python3"
  },
  "language_info": {
   "codemirror_mode": {
    "name": "ipython",
    "version": 3
   },
   "file_extension": ".py",
   "mimetype": "text/x-python",
   "name": "python",
   "nbconvert_exporter": "python",
   "pygments_lexer": "ipython3",
   "version": "3.8.10"
  }
 },
 "nbformat": 4,
 "nbformat_minor": 1
}
